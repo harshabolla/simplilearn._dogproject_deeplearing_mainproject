{
 "cells": [
  {
   "cell_type": "markdown",
   "metadata": {},
   "source": [
    "# Project :- Pet Classification Model Using CNN. by Harsha Teja "
   ]
  },
  {
   "cell_type": "markdown",
   "metadata": {},
   "source": [
    "\n",
    "Project 3 \n",
    "\n",
    "DESCRIPTION\n",
    "\n",
    "Build a CNN model that classifies the given pet images correctly into dog and cat images. \n",
    "\n",
    "The project scope document specifies the requirements for the project “Pet Classification Model Using CNN.” Apart from specifying the functional and nonfunctional requirements for the project, it also serves as an input for project scoping. \n",
    "\n",
    "Project Description and Scope \n",
    "\n",
    "You are provided with the following resources that can be used as inputs for your model: \n",
    "\n",
    "1. A collection of images of pets, that is, cats and dogs. These images are of \n",
    "\n",
    "different sizes with varied lighting conditions. 2. Code template containing the following code blocks: \n",
    "\n",
    "a. Import modules (part 1) b. Set hyper parameters (part 2) c. Read image data set (part 3) d. Run TensorFlow model (part 4) \n",
    "\n",
    "You are expected to write the code for CNN image classification model (between Parts 3 and 4) using TensorFlow that trains on the data and calculates the accuracy score on the test data. \n",
    "\n",
    "Project Guidelines \n",
    "\n",
    "Begin by extracting ipynb file and the data in the same folder. The CNN model (cnn_model_fn) should have the following layers: \n",
    "\n",
    "● Input layer \n",
    "\n",
    "● Convolutional layer 1 with 32 filters of kernel size[5,5] \n",
    "\n",
    "● Pooling layer 1 with pool size[2,2] and stride 2 \n",
    "\n",
    "● Convolutional layer 2 with 64 filters of kernel size[5,5] \n",
    "\n",
    "● Pooling layer 2 with pool size[2,2] and stride 2 \n",
    "\n",
    "● Dense layer whose output size is fixed in the hyper parameter: fc_size=32 \n",
    "\n",
    "● Dropout layer with dropout probability 0.4 \n",
    "\n",
    "Predict the class by doing a softmax on the output of the dropout layers. \n",
    "\n",
    "This should be followed by training and evaluation: \n",
    "\n",
    "1 | Page ©Simplilearn. All rights reserved \n",
    "\n",
    "● For the training step, define the loss function and minimize it \n",
    "\n",
    "● For the evaluation step, calculate the accuracy \n",
    "\n",
    "Run the program for 100, 200, and 300 iterations, respectively. Follow this by a report on the final accuracy and loss on the evaluation data. "
   ]
  },
  {
   "cell_type": "code",
   "execution_count": 1,
   "metadata": {},
   "outputs": [
    {
     "name": "stderr",
     "output_type": "stream",
     "text": [
      "C:\\Users\\harsha.teja\\Anaconda3\\envs\\deeplearning\\lib\\site-packages\\numpy\\_distributor_init.py:32: UserWarning: loaded more than 1 DLL from .libs:\n",
      "C:\\Users\\harsha.teja\\Anaconda3\\envs\\deeplearning\\lib\\site-packages\\numpy\\.libs\\libopenblas.NOIJJG62EMASZI6NYURL6JBKM4EVBGM7.gfortran-win_amd64.dll\n",
      "C:\\Users\\harsha.teja\\Anaconda3\\envs\\deeplearning\\lib\\site-packages\\numpy\\.libs\\libopenblas.PYQHXLVVQ7VESDPUVUADXEVJOBGHJPAY.gfortran-win_amd64.dll\n",
      "  stacklevel=1)\n",
      "Using TensorFlow backend.\n"
     ]
    }
   ],
   "source": [
    "from __future__ import division, print_function\n",
    "import numpy as np\n",
    "import argparse\n",
    "import cv2\n",
    "from tensorflow.keras.applications import imagenet_utils\n",
    "from tensorflow.keras.applications.inception_v3 import preprocess_input\n",
    "from tensorflow.keras.preprocessing.image import img_to_array\n",
    "from tensorflow.keras.preprocessing.image import load_img\n",
    "\n",
    "\n",
    "import h5py\n",
    "import tensorflow as tf\n",
    "\n",
    "import matplotlib.pyplot as plt\n",
    "from tensorflow import keras\n",
    "import cv2\n",
    "\n",
    "\n",
    "from glob import glob\n",
    "import os\n",
    "\n",
    "from warnings import filterwarnings\n",
    "filterwarnings('ignore')\n",
    "from sklearn.utils import shuffle\n",
    "from sklearn.model_selection import train_test_split\n",
    "from sklearn.metrics import confusion_matrix,accuracy_score,classification_report\n",
    "import tensorflow as tf\n",
    "\n",
    "import keras\n",
    "from tensorflow.keras.models import Sequential\n",
    "from tensorflow.keras.layers import Dense,LeakyReLU,PReLU,ELU,Dropout,Activation,MaxPool2D,Conv2D,MaxPooling2D,Flatten,BatchNormalization\n",
    "from tensorflow.keras.layers import InputLayer,Dense,Dropout\n",
    "from tensorflow.keras import layers\n",
    "from tensorflow.keras.optimizers import Adam,RMSprop,SGD,Adagrad\n",
    "from tensorflow.keras.preprocessing.image import ImageDataGenerator\n",
    "from sklearn.utils import shuffle\n",
    "from sklearn.model_selection import train_test_split\n",
    "from sklearn.metrics import confusion_matrix,accuracy_score,classification_report\n",
    "# import the necessary packages\n",
    "from tensorflow.keras.applications import ResNet50\n",
    "from tensorflow.keras.applications import InceptionV3\n",
    "from tensorflow.keras.applications import Xception # TensorFlow ONLY\n",
    "from tensorflow.keras.applications import VGG16\n",
    "from tensorflow.keras.applications import VGG19\n",
    "from tensorflow.keras.applications import imagenet_utils\n",
    "from tensorflow.keras.applications.inception_v3 import preprocess_input\n",
    "from tensorflow.keras.preprocessing.image import img_to_array\n",
    "from tensorflow.keras.preprocessing.image import load_img\n",
    "\n",
    "\n",
    "# coding=utf-8\n",
    "import sys\n",
    "import os\n",
    "import glob\n",
    "import re\n",
    "\n",
    "from tensorflow.keras.applications.imagenet_utils import preprocess_input,decode_predictions\n",
    "from tensorflow.keras.models import load_model\n",
    "from tensorflow.keras.preprocessing import image\n",
    "from flask import Flask,redirect,url_for,request,render_template\n",
    "# Flask utils\n",
    "from flask import Flask, redirect, url_for, request, render_template\n",
    "from werkzeug.utils import secure_filename\n",
    "from gevent.pywsgi import WSGIServer\n",
    "from tensorflow.keras.models import Sequential\n",
    "from tensorflow.keras.applications import MobileNetV2\n",
    "from tensorflow.keras.applications.mobilenet_v2 import preprocess_input\n",
    "from tensorflow.keras.preprocessing.image import img_to_array\n",
    "from tensorflow.keras.preprocessing.image import load_img\n",
    "from tensorflow.keras.utils import to_categorical\n",
    "from tensorflow.keras.layers import AveragePooling2D\n",
    "from tensorflow.keras.layers import Dense,LeakyReLU,PReLU,ELU,Dropout,Activation,MaxPool2D,Conv2D,MaxPooling2D,Flatten\n",
    "from tensorflow.keras.layers import Input,InputLayer,Dense,Dropout\n",
    "from tensorflow.keras.models import Model\n",
    "from tensorflow.keras.optimizers import Adam\n",
    "from tensorflow.keras import layers\n",
    "from tensorflow.keras.optimizers import Adam,RMSprop,SGD,Adagrad\n",
    "from tensorflow.keras.preprocessing.image import ImageDataGenerator\n",
    "from sklearn.preprocessing import LabelBinarizer\n",
    "from sklearn.model_selection import train_test_split\n",
    "from sklearn.metrics import classification_report,accuracy_score,confusion_matrix\n",
    "from imutils import paths\n",
    "\n",
    "\n",
    "\n",
    "\n",
    "\n"
   ]
  },
  {
   "cell_type": "code",
   "execution_count": 2,
   "metadata": {},
   "outputs": [],
   "source": [
    "\n",
    "CATEGORIES =['cats','dogs']"
   ]
  },
  {
   "cell_type": "code",
   "execution_count": 3,
   "metadata": {},
   "outputs": [],
   "source": [
    "DIRECTORY =r'C:\\Users\\harsha.teja\\Desktop\\myg\\deep learning\\simple\\project\\1577957291_deeplearningwithkerasandtensorflow\\data\\train'"
   ]
  },
  {
   "cell_type": "code",
   "execution_count": 4,
   "metadata": {},
   "outputs": [],
   "source": [
    "IMG_SIZE=100\n",
    "train=[]\n",
    "for category in CATEGORIES:\n",
    "    folder = os.path.join(DIRECTORY,category)\n",
    "    label=CATEGORIES.index(category)\n",
    "    for img in os.listdir(folder):\n",
    "        img_path=os.path.join(folder,img)\n",
    "        img_arr=cv2.imread(img_path)\n",
    "        img_arr=cv2.resize(img_arr,(IMG_SIZE,IMG_SIZE))\n",
    "        train.append([img_arr,label])\n",
    "   \n"
   ]
  },
  {
   "cell_type": "code",
   "execution_count": 5,
   "metadata": {},
   "outputs": [
    {
     "data": {
      "text/plain": [
       "1"
      ]
     },
     "execution_count": 5,
     "metadata": {},
     "output_type": "execute_result"
    }
   ],
   "source": [
    "CATEGORIES.index(category)"
   ]
  },
  {
   "cell_type": "code",
   "execution_count": 6,
   "metadata": {},
   "outputs": [],
   "source": [
    "import random\n",
    "random.shuffle(train)"
   ]
  },
  {
   "cell_type": "code",
   "execution_count": 7,
   "metadata": {},
   "outputs": [],
   "source": [
    "DIRECTORY1 =r'C:\\Users\\harsha.teja\\Desktop\\myg\\deep learning\\simple\\project\\1577957291_deeplearningwithkerasandtensorflow\\data\\test'"
   ]
  },
  {
   "cell_type": "code",
   "execution_count": 8,
   "metadata": {},
   "outputs": [],
   "source": [
    "IMG_SIZE=100\n",
    "test=[]\n",
    "for category in CATEGORIES:\n",
    "    folder = os.path.join(DIRECTORY1,category)\n",
    "    label=CATEGORIES.index(category)\n",
    "    for img in os.listdir(folder):\n",
    "        img_path=os.path.join(folder,img)\n",
    "        img_arr=cv2.imread(img_path)\n",
    "        img_arr=cv2.resize(img_arr,(IMG_SIZE,IMG_SIZE))\n",
    "        test.append([img_arr,label])"
   ]
  },
  {
   "cell_type": "code",
   "execution_count": 9,
   "metadata": {},
   "outputs": [],
   "source": [
    "import random\n",
    "random.shuffle(test)"
   ]
  },
  {
   "cell_type": "code",
   "execution_count": 10,
   "metadata": {},
   "outputs": [],
   "source": [
    "X_train=[]\n",
    "y_train=[]\n",
    "X_test=[]\n",
    "y_test=[]"
   ]
  },
  {
   "cell_type": "code",
   "execution_count": 11,
   "metadata": {},
   "outputs": [],
   "source": [
    "for fetures,label in train:\n",
    "    X_train.append(fetures)\n",
    "    y_train.append(label)"
   ]
  },
  {
   "cell_type": "code",
   "execution_count": 12,
   "metadata": {},
   "outputs": [],
   "source": [
    "for fetures,label in test:\n",
    "    X_test.append(fetures)\n",
    "    y_test.append(label)"
   ]
  },
  {
   "cell_type": "code",
   "execution_count": 13,
   "metadata": {},
   "outputs": [],
   "source": [
    "img_size=100"
   ]
  },
  {
   "cell_type": "code",
   "execution_count": 14,
   "metadata": {},
   "outputs": [
    {
     "name": "stdout",
     "output_type": "stream",
     "text": [
      "40\n",
      "40\n",
      "20\n",
      "20\n"
     ]
    }
   ],
   "source": [
    "print(len(X_train))\n",
    "print(len(y_train))\n",
    "print(len(X_test))\n",
    "print(len(y_test))\n"
   ]
  },
  {
   "cell_type": "code",
   "execution_count": 15,
   "metadata": {},
   "outputs": [],
   "source": [
    "X_train= np.array(X_train,dtype=\"float32\")\n",
    "y_train=np.array(y_train)\n",
    "X_test= np.array(X_test,dtype=\"float32\")\n",
    "y_test=np.array(y_test)\n"
   ]
  },
  {
   "cell_type": "code",
   "execution_count": 16,
   "metadata": {},
   "outputs": [],
   "source": [
    "X_train= X_train/255\n",
    "X_test  = X_test/255"
   ]
  },
  {
   "cell_type": "markdown",
   "metadata": {},
   "source": [
    " X_train, X_test, y_train, y_test = train_test_split(X, y, test_size=0.20, random_state=42)"
   ]
  },
  {
   "cell_type": "code",
   "execution_count": 17,
   "metadata": {},
   "outputs": [
    {
     "name": "stdout",
     "output_type": "stream",
     "text": [
      "(40, 100, 100, 3)\n"
     ]
    },
    {
     "data": {
      "text/plain": [
       "(40,)"
      ]
     },
     "execution_count": 17,
     "metadata": {},
     "output_type": "execute_result"
    }
   ],
   "source": [
    "print(X_train.shape)\n",
    "y_train.shape"
   ]
  },
  {
   "cell_type": "code",
   "execution_count": null,
   "metadata": {},
   "outputs": [],
   "source": []
  },
  {
   "cell_type": "markdown",
   "metadata": {},
   "source": [
    "● Input layer \n",
    "\n",
    "● Convolutional layer 1 with 32 filters of kernel size[5,5] \n",
    "\n",
    "● Pooling layer 1 with pool size[2,2] and stride 2 \n",
    "\n",
    "● Convolutional layer 2 with 64 filters of kernel size[5,5] \n",
    "\n",
    "● Pooling layer 2 with pool size[2,2] and stride 2 \n",
    "\n",
    "● Dense layer whose output size is fixed in the hyper parameter: fc_size=32 \n",
    "\n",
    "● Dropout layer with dropout probability 0.4 \n",
    "\n",
    "Predict the class by doing a softmax on the output of the dropout layers. "
   ]
  },
  {
   "cell_type": "code",
   "execution_count": 18,
   "metadata": {},
   "outputs": [],
   "source": [
    "img_width,img_height =100,100\n",
    "batch_size =32\n",
    "epochs=10"
   ]
  },
  {
   "cell_type": "code",
   "execution_count": 19,
   "metadata": {},
   "outputs": [
    {
     "name": "stdout",
     "output_type": "stream",
     "text": [
      "Model: \"sequential\"\n",
      "_________________________________________________________________\n",
      "Layer (type)                 Output Shape              Param #   \n",
      "=================================================================\n",
      "conv2d (Conv2D)              (None, 100, 100, 32)      2432      \n",
      "_________________________________________________________________\n",
      "max_pooling2d (MaxPooling2D) (None, 50, 50, 32)        0         \n",
      "_________________________________________________________________\n",
      "conv2d_1 (Conv2D)            (None, 46, 46, 64)        51264     \n",
      "_________________________________________________________________\n",
      "max_pooling2d_1 (MaxPooling2 (None, 23, 23, 64)        0         \n",
      "_________________________________________________________________\n",
      "flatten (Flatten)            (None, 33856)             0         \n",
      "_________________________________________________________________\n",
      "dense (Dense)                (None, 32)                1083424   \n",
      "_________________________________________________________________\n",
      "batch_normalization (BatchNo (None, 32)                128       \n",
      "_________________________________________________________________\n",
      "dropout (Dropout)            (None, 32)                0         \n",
      "_________________________________________________________________\n",
      "dense_1 (Dense)              (None, 2)                 66        \n",
      "=================================================================\n",
      "Total params: 1,137,314\n",
      "Trainable params: 1,137,250\n",
      "Non-trainable params: 64\n",
      "_________________________________________________________________\n"
     ]
    }
   ],
   "source": [
    "input_shape = (img_height,img_width)\n",
    "model = Sequential()\n",
    "model.add(Conv2D(32,(5,5),input_shape=(img_height,img_width,3),padding='same', activation='relu'))#3x3 is default\n",
    "model.add(MaxPooling2D(pool_size=(2,2)))\n",
    "\n",
    "model.add(Conv2D(64,(5,5), activation='relu'))\n",
    "model.add(MaxPooling2D(pool_size=(2,2)))\n",
    "\n",
    "\n",
    "#model.add(Dense(32, activation='relu'))\n",
    "#model.add(Dense(32, activation='relu'))\n",
    "model.add(Flatten())\n",
    "\n",
    "model.add(Dense(32, activation='relu'))\n",
    "\n",
    "model.add(BatchNormalization())\n",
    "model.add(Dropout(.4))\n",
    "model.add(Dense(2, activation='softmax'))\n",
    "\n",
    "# Model summary \n",
    "model.summary()"
   ]
  },
  {
   "cell_type": "code",
   "execution_count": 20,
   "metadata": {},
   "outputs": [],
   "source": [
    "from tensorflow.keras.callbacks import TensorBoard\n",
    "import time\n",
    "NAME = f'cat-vs-dog-predication-{int(time.time())}'\n",
    "tensorboard = TensorBoard(log_dir=f'logs\\\\{NAME}\\\\')"
   ]
  },
  {
   "cell_type": "code",
   "execution_count": 21,
   "metadata": {},
   "outputs": [],
   "source": [
    "NAME = f'cat-vs-dog-predication-{int(time.time())}'"
   ]
  },
  {
   "cell_type": "code",
   "execution_count": 22,
   "metadata": {},
   "outputs": [],
   "source": [
    "tensorboard = TensorBoard(log_dir=f'logs\\\\{NAME}\\\\')"
   ]
  },
  {
   "cell_type": "code",
   "execution_count": 23,
   "metadata": {},
   "outputs": [],
   "source": [
    "model.compile(loss='sparse_categorical_crossentropy', \n",
    "              optimizer='adam',\n",
    "              metrics=['accuracy'])"
   ]
  },
  {
   "cell_type": "code",
   "execution_count": 24,
   "metadata": {},
   "outputs": [],
   "source": [
    "aug=ImageDataGenerator(featurewise_center=False,\n",
    "    samplewise_center=False,\n",
    "    featurewise_std_normalization=False,\n",
    "    samplewise_std_normalization=False,\n",
    "    zca_whitening=False,\n",
    "    zca_epsilon=1e-06,\n",
    "    rotation_range=20,\n",
    "    width_shift_range=0.2,\n",
    "    height_shift_range=0.2,\n",
    "    brightness_range=None,\n",
    "    shear_range=0.15,\n",
    "    zoom_range=0.15,\n",
    "    channel_shift_range=0.0,\n",
    "    fill_mode='nearest',\n",
    "    cval=0.1,\n",
    "    horizontal_flip=True,\n",
    "    vertical_flip=False,\n",
    "    rescale=None,\n",
    "    preprocessing_function=None,\n",
    "    data_format=None,\n",
    "    validation_split=0.0,\n",
    "    dtype=None)"
   ]
  },
  {
   "cell_type": "code",
   "execution_count": 25,
   "metadata": {},
   "outputs": [],
   "source": [
    "from keras.callbacks import EarlyStopping"
   ]
  },
  {
   "cell_type": "code",
   "execution_count": 26,
   "metadata": {},
   "outputs": [
    {
     "name": "stdout",
     "output_type": "stream",
     "text": [
      "WARNING:tensorflow:sample_weight modes were coerced from\n",
      "  ...\n",
      "    to  \n",
      "  ['...']\n",
      "Train for 2 steps, validate on 20 samples\n",
      "Epoch 1/10\n",
      "2/2 [==============================] - 9s 5s/step - loss: 0.8452 - accuracy: 0.5000 - val_loss: 1.0352 - val_accuracy: 0.5000\n",
      "Epoch 2/10\n",
      "2/2 [==============================] - 1s 483ms/step - loss: 1.0755 - accuracy: 0.5500 - val_loss: 1.5874 - val_accuracy: 0.5000\n",
      "Epoch 3/10\n",
      "2/2 [==============================] - 1s 479ms/step - loss: 1.0136 - accuracy: 0.5000 - val_loss: 2.1769 - val_accuracy: 0.5000\n",
      "Epoch 4/10\n",
      "2/2 [==============================] - 1s 482ms/step - loss: 1.0218 - accuracy: 0.4250 - val_loss: 2.6423 - val_accuracy: 0.5000\n",
      "Epoch 5/10\n",
      "2/2 [==============================] - 1s 473ms/step - loss: 0.9495 - accuracy: 0.4750 - val_loss: 2.7914 - val_accuracy: 0.5000\n",
      "Epoch 6/10\n",
      "2/2 [==============================] - 1s 497ms/step - loss: 1.0798 - accuracy: 0.5000 - val_loss: 2.4790 - val_accuracy: 0.5000\n",
      "Epoch 7/10\n",
      "2/2 [==============================] - 1s 512ms/step - loss: 0.8073 - accuracy: 0.5750 - val_loss: 1.9809 - val_accuracy: 0.5000\n",
      "Epoch 8/10\n",
      "2/2 [==============================] - 1s 481ms/step - loss: 0.9207 - accuracy: 0.6000 - val_loss: 1.2862 - val_accuracy: 0.5000\n",
      "Epoch 9/10\n",
      "2/2 [==============================] - 1s 545ms/step - loss: 0.9452 - accuracy: 0.4750 - val_loss: 0.9043 - val_accuracy: 0.4500\n",
      "Epoch 10/10\n",
      "2/2 [==============================] - 1s 546ms/step - loss: 0.6930 - accuracy: 0.7000 - val_loss: 1.0728 - val_accuracy: 0.4500\n"
     ]
    }
   ],
   "source": [
    "h = model.fit(\n",
    "    aug.flow(X_train, y_train, batch_size= batch_size),\n",
    "    validation_data=(X_test, y_test),\n",
    "    epochs=epochs)"
   ]
  },
  {
   "cell_type": "code",
   "execution_count": 27,
   "metadata": {},
   "outputs": [],
   "source": [
    "from tensorflow.keras.callbacks import EarlyStopping\n",
    "earlystop= EarlyStopping(monitor='accuracy', patience=3)\n",
    "epochs = 20 # \n",
    "batch_size = 256"
   ]
  },
  {
   "cell_type": "code",
   "execution_count": 28,
   "metadata": {},
   "outputs": [
    {
     "name": "stdout",
     "output_type": "stream",
     "text": [
      "Train on 40 samples, validate on 20 samples\n",
      "Epoch 1/100\n",
      "40/40 [==============================] - 2s 62ms/sample - loss: 0.8891 - accuracy: 0.6750 - val_loss: 1.1862 - val_accuracy: 0.4000\n",
      "Epoch 2/100\n",
      "40/40 [==============================] - 1s 21ms/sample - loss: 0.8285 - accuracy: 0.5250 - val_loss: 1.3368 - val_accuracy: 0.4000\n",
      "Epoch 3/100\n",
      "40/40 [==============================] - 1s 22ms/sample - loss: 0.7393 - accuracy: 0.6250 - val_loss: 1.2718 - val_accuracy: 0.3000\n",
      "Epoch 4/100\n",
      "40/40 [==============================] - 1s 23ms/sample - loss: 0.5734 - accuracy: 0.7000 - val_loss: 1.2254 - val_accuracy: 0.5000\n",
      "Epoch 5/100\n",
      "40/40 [==============================] - 1s 24ms/sample - loss: 0.5995 - accuracy: 0.6250 - val_loss: 2.5001 - val_accuracy: 0.5000\n",
      "Epoch 6/100\n",
      "40/40 [==============================] - 1s 22ms/sample - loss: 0.4788 - accuracy: 0.8250 - val_loss: 2.1146 - val_accuracy: 0.5000\n",
      "Epoch 7/100\n",
      "40/40 [==============================] - 1s 22ms/sample - loss: 0.3887 - accuracy: 0.8250 - val_loss: 1.0153 - val_accuracy: 0.6000\n",
      "Epoch 8/100\n",
      "40/40 [==============================] - 1s 22ms/sample - loss: 0.4643 - accuracy: 0.7750 - val_loss: 2.3437 - val_accuracy: 0.5000\n",
      "Epoch 9/100\n",
      "40/40 [==============================] - 1s 22ms/sample - loss: 0.3799 - accuracy: 0.8750 - val_loss: 2.9639 - val_accuracy: 0.5000\n",
      "Epoch 10/100\n",
      "40/40 [==============================] - 1s 24ms/sample - loss: 0.3431 - accuracy: 0.9000 - val_loss: 1.4815 - val_accuracy: 0.5500\n",
      "Epoch 11/100\n",
      "40/40 [==============================] - 1s 25ms/sample - loss: 0.2540 - accuracy: 0.9750 - val_loss: 0.8177 - val_accuracy: 0.5000\n",
      "Epoch 12/100\n",
      "40/40 [==============================] - 1s 26ms/sample - loss: 0.3029 - accuracy: 0.9250 - val_loss: 0.7264 - val_accuracy: 0.6000\n",
      "Epoch 13/100\n",
      "40/40 [==============================] - 1s 26ms/sample - loss: 0.2810 - accuracy: 0.9250 - val_loss: 0.7382 - val_accuracy: 0.6000\n",
      "Epoch 14/100\n",
      "40/40 [==============================] - 1s 27ms/sample - loss: 0.2030 - accuracy: 0.9750 - val_loss: 0.8156 - val_accuracy: 0.4500\n"
     ]
    }
   ],
   "source": [
    "#model.compile(loss='categorical_crossentropy', optimizer='adam', metrics=['accuracy'])\n",
    "trained_model_5d = model.fit(X_train, y_train, \n",
    "                             epochs=100, batch_size=16, validation_data=(X_test, y_test)\n",
    " , callbacks = [earlystop])"
   ]
  },
  {
   "cell_type": "code",
   "execution_count": 29,
   "metadata": {},
   "outputs": [
    {
     "name": "stdout",
     "output_type": "stream",
     "text": [
      "train_accurcy:1.000,Testaccury:0.450\n",
      "loss_train:0.249,loss_acc:0.816\n"
     ]
    }
   ],
   "source": [
    "loss_train,train_acc=model.evaluate(X_train, y_train,verbose=0)\n",
    "loss_test,test_acc=model.evaluate(X_test, y_test,verbose=0)\n",
    "print(\"train_accurcy:%.3f,Testaccury:%.3f\"%(train_acc,test_acc))\n",
    "print(\"loss_train:%.3f,loss_acc:%.3f\"%(loss_train,loss_test))"
   ]
  },
  {
   "cell_type": "code",
   "execution_count": 30,
   "metadata": {},
   "outputs": [
    {
     "data": {
      "image/png": "[encoded data removed]",
      "text/plain": [
       "<Figure size 432x432 with 1 Axes>"
      ]
     },
     "metadata": {
      "needs_background": "light"
     },
     "output_type": "display_data"
    }
   ],
   "source": [
    "plt.figure(figsize =(6,6))\n",
    "plt.plot(h.history['accuracy'])\n",
    "plt.plot(h.history['val_accuracy'])\n",
    "plt.title('Model Accury')\n",
    "plt.ylabel('accurcy')\n",
    "plt.xlabel('epcho')\n",
    "plt.legend(['train','test'],loc = 'upper left')\n",
    "plt.show()"
   ]
  },
  {
   "cell_type": "code",
   "execution_count": 31,
   "metadata": {},
   "outputs": [
    {
     "data": {
      "image/png": "[encoded data removed]",
      "text/plain": [
       "<Figure size 432x432 with 1 Axes>"
      ]
     },
     "metadata": {
      "needs_background": "light"
     },
     "output_type": "display_data"
    }
   ],
   "source": [
    "plt.figure(figsize =(6,6))\n",
    "plt.plot(h.history['loss'])\n",
    "plt.plot(h.history['val_loss'])\n",
    "plt.title('Model loss')\n",
    "plt.ylabel('loss')\n",
    "plt.xlabel('epcho')\n",
    "plt.legend(['train','test'],loc = 'upper left')\n",
    "plt.show()"
   ]
  },
  {
   "cell_type": "code",
   "execution_count": 32,
   "metadata": {},
   "outputs": [
    {
     "data": {
      "text/plain": [
       "<matplotlib.legend.Legend at 0x17e0029f160>"
      ]
     },
     "execution_count": 32,
     "metadata": {},
     "output_type": "execute_result"
    },
    {
     "data": {
      "image/png": "[encoded data removed]",
      "text/plain": [
       "<Figure size 432x288 with 1 Axes>"
      ]
     },
     "metadata": {},
     "output_type": "display_data"
    }
   ],
   "source": [
    "# plot training/validation loss/accuracy\n",
    "plt.style.use(\"ggplot\")\n",
    "plt.figure()\n",
    "N = 10\n",
    "plt.plot(np.arange(0,N), h.history[\"loss\"], label=\"train_loss\")\n",
    "plt.plot(np.arange(0,N), h.history[\"val_loss\"], label=\"val_loss\")\n",
    "plt.plot(np.arange(0,N), h.history[\"accuracy\"], label=\"train_acc\")\n",
    "plt.plot(np.arange(0,N), h.history[\"val_accuracy\"], label=\"val_acc\")\n",
    "\n",
    "plt.title(\"Training Loss and Accuracy\")\n",
    "plt.xlabel(\"Epoch #\")\n",
    "plt.ylabel(\"Loss/Accuracy\")\n",
    "plt.legend(loc=\"upper right\")\n",
    "\n",
    "# save plot to disk\n",
    "#plt.savefig('plot.png')"
   ]
  },
  {
   "cell_type": "code",
   "execution_count": 33,
   "metadata": {},
   "outputs": [
    {
     "data": {
      "text/plain": [
       "0.45"
      ]
     },
     "execution_count": 33,
     "metadata": {},
     "output_type": "execute_result"
    }
   ],
   "source": [
    "\n",
    "prediction = model.predict_classes(X_test)\n",
    "accuracy_score(y_test,prediction)"
   ]
  },
  {
   "cell_type": "code",
   "execution_count": 34,
   "metadata": {},
   "outputs": [
    {
     "data": {
      "text/plain": [
       "array([[8, 2],\n",
       "       [9, 1]], dtype=int64)"
      ]
     },
     "execution_count": 34,
     "metadata": {},
     "output_type": "execute_result"
    }
   ],
   "source": [
    "from sklearn.metrics import confusion_matrix\n",
    "confusion_matrix(y_test,prediction)"
   ]
  },
  {
   "cell_type": "code",
   "execution_count": 35,
   "metadata": {},
   "outputs": [
    {
     "data": {
      "text/plain": [
       "<AxesSubplot:>"
      ]
     },
     "execution_count": 35,
     "metadata": {},
     "output_type": "execute_result"
    },
    {
     "data": {
      "image/png": "[encoded data removed]",
      "text/plain": [
       "<Figure size 432x288 with 2 Axes>"
      ]
     },
     "metadata": {},
     "output_type": "display_data"
    }
   ],
   "source": [
    "import seaborn as sns\n",
    "c = confusion_matrix(y_test,prediction)\n",
    "sns.heatmap(c,annot = True)"
   ]
  },
  {
   "cell_type": "code",
   "execution_count": 36,
   "metadata": {},
   "outputs": [],
   "source": [
    "#for 100 epochs"
   ]
  },
  {
   "cell_type": "code",
   "execution_count": 37,
   "metadata": {},
   "outputs": [
    {
     "name": "stdout",
     "output_type": "stream",
     "text": [
      "WARNING:tensorflow:sample_weight modes were coerced from\n",
      "  ...\n",
      "    to  \n",
      "  ['...']\n",
      "Train for 1 steps, validate on 20 samples\n",
      "Epoch 1/100\n",
      "1/1 [==============================] - 1s 966ms/step - loss: 1.0025 - accuracy: 0.5750 - val_loss: 0.8187 - val_accuracy: 0.5000\n",
      "Epoch 2/100\n",
      "1/1 [==============================] - 1s 951ms/step - loss: 0.7837 - accuracy: 0.5250 - val_loss: 0.8070 - val_accuracy: 0.5500\n",
      "Epoch 3/100\n",
      "1/1 [==============================] - 1s 966ms/step - loss: 0.7414 - accuracy: 0.6500 - val_loss: 0.7802 - val_accuracy: 0.5500\n",
      "Epoch 4/100\n",
      "1/1 [==============================] - 1s 1s/step - loss: 1.0014 - accuracy: 0.5500 - val_loss: 0.7708 - val_accuracy: 0.5500\n",
      "Epoch 5/100\n",
      "1/1 [==============================] - 1s 950ms/step - loss: 0.6288 - accuracy: 0.6000 - val_loss: 0.7776 - val_accuracy: 0.5500\n",
      "Epoch 6/100\n",
      "1/1 [==============================] - 1s 1s/step - loss: 0.7624 - accuracy: 0.7000 - val_loss: 0.7954 - val_accuracy: 0.6000\n",
      "Epoch 7/100\n",
      "1/1 [==============================] - 1s 1s/step - loss: 0.7149 - accuracy: 0.6000 - val_loss: 0.8291 - val_accuracy: 0.5500\n",
      "Epoch 8/100\n",
      "1/1 [==============================] - 1s 982ms/step - loss: 0.7089 - accuracy: 0.6250 - val_loss: 0.8915 - val_accuracy: 0.5000\n",
      "Epoch 9/100\n",
      "1/1 [==============================] - 1s 930ms/step - loss: 0.6959 - accuracy: 0.5750 - val_loss: 0.9357 - val_accuracy: 0.5000\n",
      "Epoch 10/100\n",
      "1/1 [==============================] - 1s 943ms/step - loss: 0.7338 - accuracy: 0.6000 - val_loss: 0.9546 - val_accuracy: 0.5000\n",
      "Epoch 11/100\n",
      "1/1 [==============================] - 1s 970ms/step - loss: 0.5983 - accuracy: 0.7000 - val_loss: 0.9463 - val_accuracy: 0.5000\n",
      "Epoch 12/100\n",
      "1/1 [==============================] - 1s 1000ms/step - loss: 1.0310 - accuracy: 0.6000 - val_loss: 0.9188 - val_accuracy: 0.5000\n",
      "Epoch 13/100\n",
      "1/1 [==============================] - 1s 956ms/step - loss: 0.5710 - accuracy: 0.6750 - val_loss: 0.8794 - val_accuracy: 0.5000\n",
      "Epoch 14/100\n",
      "1/1 [==============================] - 1s 1s/step - loss: 0.5730 - accuracy: 0.7000 - val_loss: 0.8590 - val_accuracy: 0.5000\n",
      "Epoch 15/100\n",
      "1/1 [==============================] - 1s 1s/step - loss: 0.7275 - accuracy: 0.5500 - val_loss: 0.8386 - val_accuracy: 0.4500\n",
      "Epoch 16/100\n",
      "1/1 [==============================] - 1s 1s/step - loss: 0.5888 - accuracy: 0.6500 - val_loss: 0.8174 - val_accuracy: 0.5500\n",
      "Epoch 17/100\n",
      "1/1 [==============================] - 1s 1s/step - loss: 0.7147 - accuracy: 0.6500 - val_loss: 0.8109 - val_accuracy: 0.5500\n",
      "Epoch 18/100\n",
      "1/1 [==============================] - 1s 1s/step - loss: 0.6173 - accuracy: 0.7250 - val_loss: 0.8203 - val_accuracy: 0.5500\n",
      "Epoch 19/100\n",
      "1/1 [==============================] - 1s 1s/step - loss: 0.6824 - accuracy: 0.5500 - val_loss: 0.8609 - val_accuracy: 0.5500\n",
      "Epoch 20/100\n",
      "1/1 [==============================] - 1s 1s/step - loss: 0.5779 - accuracy: 0.7000 - val_loss: 0.8619 - val_accuracy: 0.5500\n",
      "Epoch 21/100\n",
      "1/1 [==============================] - 1s 1s/step - loss: 0.6983 - accuracy: 0.6500 - val_loss: 0.8324 - val_accuracy: 0.5000\n",
      "Epoch 22/100\n",
      "1/1 [==============================] - 1s 1s/step - loss: 0.6847 - accuracy: 0.5750 - val_loss: 0.8001 - val_accuracy: 0.6500\n",
      "Epoch 23/100\n",
      "1/1 [==============================] - 1s 1s/step - loss: 0.5465 - accuracy: 0.6750 - val_loss: 0.8213 - val_accuracy: 0.4500\n",
      "Epoch 24/100\n",
      "1/1 [==============================] - 1s 1s/step - loss: 0.6824 - accuracy: 0.5750 - val_loss: 0.8855 - val_accuracy: 0.5000\n",
      "Epoch 25/100\n",
      "1/1 [==============================] - 1s 1s/step - loss: 0.5769 - accuracy: 0.6750 - val_loss: 0.8797 - val_accuracy: 0.5500\n",
      "Epoch 26/100\n",
      "1/1 [==============================] - 1s 1s/step - loss: 0.5864 - accuracy: 0.7500 - val_loss: 0.8646 - val_accuracy: 0.6000\n",
      "Epoch 27/100\n",
      "1/1 [==============================] - 1s 1s/step - loss: 0.6709 - accuracy: 0.6250 - val_loss: 0.8270 - val_accuracy: 0.6000\n",
      "Epoch 28/100\n",
      "1/1 [==============================] - 1s 1s/step - loss: 0.6195 - accuracy: 0.6500 - val_loss: 0.7875 - val_accuracy: 0.5500\n",
      "Epoch 29/100\n",
      "1/1 [==============================] - 1s 998ms/step - loss: 0.5988 - accuracy: 0.7000 - val_loss: 0.7534 - val_accuracy: 0.5000\n",
      "Epoch 30/100\n",
      "1/1 [==============================] - 1s 974ms/step - loss: 0.6128 - accuracy: 0.6000 - val_loss: 0.7561 - val_accuracy: 0.6000\n",
      "Epoch 31/100\n",
      "1/1 [==============================] - 1s 1s/step - loss: 0.5905 - accuracy: 0.6750 - val_loss: 0.8120 - val_accuracy: 0.5000\n",
      "Epoch 32/100\n",
      "1/1 [==============================] - 1s 1s/step - loss: 0.6199 - accuracy: 0.6250 - val_loss: 0.8847 - val_accuracy: 0.4000\n",
      "Epoch 33/100\n",
      "1/1 [==============================] - 1s 1s/step - loss: 0.6218 - accuracy: 0.5500 - val_loss: 0.9244 - val_accuracy: 0.4000\n",
      "Epoch 34/100\n",
      "1/1 [==============================] - 1s 1s/step - loss: 0.7268 - accuracy: 0.5500 - val_loss: 0.9274 - val_accuracy: 0.5500\n",
      "Epoch 35/100\n",
      "1/1 [==============================] - 1s 1s/step - loss: 0.6546 - accuracy: 0.7000 - val_loss: 0.8775 - val_accuracy: 0.5500\n",
      "Epoch 36/100\n",
      "1/1 [==============================] - 1s 1s/step - loss: 0.5951 - accuracy: 0.6750 - val_loss: 0.7852 - val_accuracy: 0.5500\n",
      "Epoch 37/100\n",
      "1/1 [==============================] - 1s 923ms/step - loss: 0.5638 - accuracy: 0.6750 - val_loss: 0.7091 - val_accuracy: 0.6000\n",
      "Epoch 38/100\n",
      "1/1 [==============================] - 1s 954ms/step - loss: 0.5491 - accuracy: 0.7500 - val_loss: 0.6675 - val_accuracy: 0.6500\n",
      "Epoch 39/100\n",
      "1/1 [==============================] - 1s 946ms/step - loss: 0.5640 - accuracy: 0.6750 - val_loss: 0.6828 - val_accuracy: 0.6000\n",
      "Epoch 40/100\n",
      "1/1 [==============================] - 1s 944ms/step - loss: 0.5590 - accuracy: 0.7500 - val_loss: 0.6883 - val_accuracy: 0.5500\n",
      "Epoch 41/100\n",
      "1/1 [==============================] - 1s 881ms/step - loss: 0.5674 - accuracy: 0.6250 - val_loss: 0.6931 - val_accuracy: 0.5000\n",
      "Epoch 42/100\n",
      "1/1 [==============================] - 1s 969ms/step - loss: 0.6383 - accuracy: 0.6500 - val_loss: 0.7139 - val_accuracy: 0.6500\n",
      "Epoch 43/100\n",
      "1/1 [==============================] - 1s 952ms/step - loss: 0.6198 - accuracy: 0.6500 - val_loss: 0.7255 - val_accuracy: 0.6500\n",
      "Epoch 44/100\n",
      "1/1 [==============================] - 1s 966ms/step - loss: 0.5562 - accuracy: 0.7250 - val_loss: 0.7255 - val_accuracy: 0.6500\n",
      "Epoch 45/100\n",
      "1/1 [==============================] - 1s 901ms/step - loss: 0.5654 - accuracy: 0.5750 - val_loss: 0.7202 - val_accuracy: 0.6000\n",
      "Epoch 46/100\n",
      "1/1 [==============================] - 1s 895ms/step - loss: 0.5454 - accuracy: 0.7500 - val_loss: 0.7145 - val_accuracy: 0.6000\n",
      "Epoch 47/100\n",
      "1/1 [==============================] - 1s 899ms/step - loss: 0.5775 - accuracy: 0.6000 - val_loss: 0.7097 - val_accuracy: 0.6500\n",
      "Epoch 48/100\n",
      "1/1 [==============================] - 1s 885ms/step - loss: 0.4984 - accuracy: 0.7500 - val_loss: 0.7307 - val_accuracy: 0.6000\n",
      "Epoch 49/100\n",
      "1/1 [==============================] - 1s 890ms/step - loss: 0.5617 - accuracy: 0.6500 - val_loss: 0.7253 - val_accuracy: 0.6500\n",
      "Epoch 50/100\n",
      "1/1 [==============================] - 1s 910ms/step - loss: 0.5969 - accuracy: 0.7250 - val_loss: 0.7099 - val_accuracy: 0.6000\n",
      "Epoch 51/100\n",
      "1/1 [==============================] - 1s 889ms/step - loss: 0.4605 - accuracy: 0.7750 - val_loss: 0.6874 - val_accuracy: 0.6000\n",
      "Epoch 52/100\n",
      "1/1 [==============================] - 1s 916ms/step - loss: 0.4671 - accuracy: 0.7750 - val_loss: 0.6728 - val_accuracy: 0.6000\n",
      "Epoch 53/100\n",
      "1/1 [==============================] - 1s 921ms/step - loss: 0.5231 - accuracy: 0.7750 - val_loss: 0.6690 - val_accuracy: 0.6000\n",
      "Epoch 54/100\n",
      "1/1 [==============================] - 1s 911ms/step - loss: 0.5367 - accuracy: 0.8000 - val_loss: 0.6676 - val_accuracy: 0.5500\n",
      "Epoch 55/100\n",
      "1/1 [==============================] - 1s 874ms/step - loss: 0.4712 - accuracy: 0.7750 - val_loss: 0.6557 - val_accuracy: 0.5500\n",
      "Epoch 56/100\n",
      "1/1 [==============================] - 1s 906ms/step - loss: 0.4119 - accuracy: 0.8500 - val_loss: 0.6355 - val_accuracy: 0.6500\n",
      "Epoch 57/100\n",
      "1/1 [==============================] - 1s 1s/step - loss: 0.5322 - accuracy: 0.7750 - val_loss: 0.6343 - val_accuracy: 0.6500\n",
      "Epoch 58/100\n",
      "1/1 [==============================] - 1s 1s/step - loss: 0.4846 - accuracy: 0.7250 - val_loss: 0.6289 - val_accuracy: 0.6500\n"
     ]
    },
    {
     "name": "stdout",
     "output_type": "stream",
     "text": [
      "Epoch 59/100\n",
      "1/1 [==============================] - 1s 1s/step - loss: 0.3859 - accuracy: 0.8750 - val_loss: 0.6221 - val_accuracy: 0.6500\n",
      "Epoch 60/100\n",
      "1/1 [==============================] - 1s 975ms/step - loss: 0.4298 - accuracy: 0.9000 - val_loss: 0.6170 - val_accuracy: 0.7000\n",
      "Epoch 61/100\n",
      "1/1 [==============================] - 1s 952ms/step - loss: 0.3439 - accuracy: 0.8500 - val_loss: 0.6261 - val_accuracy: 0.7000\n",
      "Epoch 62/100\n",
      "1/1 [==============================] - 1s 975ms/step - loss: 0.3501 - accuracy: 0.9750 - val_loss: 0.6406 - val_accuracy: 0.7000\n",
      "Epoch 63/100\n",
      "1/1 [==============================] - 1s 950ms/step - loss: 0.3307 - accuracy: 0.9250 - val_loss: 0.6619 - val_accuracy: 0.7000\n",
      "Epoch 64/100\n",
      "1/1 [==============================] - 1s 1s/step - loss: 0.4006 - accuracy: 0.9000 - val_loss: 0.6620 - val_accuracy: 0.7000\n",
      "Epoch 65/100\n",
      "1/1 [==============================] - 1s 979ms/step - loss: 0.3587 - accuracy: 0.8750 - val_loss: 0.6604 - val_accuracy: 0.6500\n",
      "Epoch 66/100\n",
      "1/1 [==============================] - 1s 1s/step - loss: 0.4134 - accuracy: 0.8500 - val_loss: 0.6648 - val_accuracy: 0.7500\n",
      "Epoch 67/100\n",
      "1/1 [==============================] - 1s 1s/step - loss: 0.3469 - accuracy: 0.8750 - val_loss: 0.6940 - val_accuracy: 0.7500\n",
      "Epoch 68/100\n",
      "1/1 [==============================] - 1s 1s/step - loss: 0.4015 - accuracy: 0.8750 - val_loss: 0.6932 - val_accuracy: 0.7000\n",
      "Epoch 69/100\n",
      "1/1 [==============================] - 1s 1s/step - loss: 0.3294 - accuracy: 0.9500 - val_loss: 0.7124 - val_accuracy: 0.7000\n",
      "Epoch 70/100\n",
      "1/1 [==============================] - 1s 1s/step - loss: 0.3908 - accuracy: 0.8250 - val_loss: 0.7277 - val_accuracy: 0.7000\n",
      "Epoch 71/100\n",
      "1/1 [==============================] - 1s 1s/step - loss: 0.3992 - accuracy: 0.8000 - val_loss: 0.7031 - val_accuracy: 0.6000\n",
      "Epoch 72/100\n",
      "1/1 [==============================] - 1s 1s/step - loss: 0.3828 - accuracy: 0.8250 - val_loss: 0.7062 - val_accuracy: 0.6000\n",
      "Epoch 73/100\n",
      "1/1 [==============================] - 1s 1s/step - loss: 0.3673 - accuracy: 0.8750 - val_loss: 0.7037 - val_accuracy: 0.6000\n",
      "Epoch 74/100\n",
      "1/1 [==============================] - 1s 1s/step - loss: 0.4201 - accuracy: 0.7750 - val_loss: 0.7387 - val_accuracy: 0.5000\n",
      "Epoch 75/100\n",
      "1/1 [==============================] - 1s 1s/step - loss: 0.4441 - accuracy: 0.8750 - val_loss: 0.7393 - val_accuracy: 0.5000\n",
      "Epoch 76/100\n",
      "1/1 [==============================] - 1s 1s/step - loss: 0.3966 - accuracy: 0.8250 - val_loss: 0.7644 - val_accuracy: 0.5000\n",
      "Epoch 77/100\n",
      "1/1 [==============================] - 1s 1s/step - loss: 0.4844 - accuracy: 0.7500 - val_loss: 0.7355 - val_accuracy: 0.5000\n",
      "Epoch 78/100\n",
      "1/1 [==============================] - 1s 1s/step - loss: 0.4120 - accuracy: 0.8000 - val_loss: 0.6847 - val_accuracy: 0.6500\n",
      "Epoch 79/100\n",
      "1/1 [==============================] - 1s 1s/step - loss: 0.3353 - accuracy: 0.9000 - val_loss: 0.6487 - val_accuracy: 0.7000\n",
      "Epoch 80/100\n",
      "1/1 [==============================] - 1s 1s/step - loss: 0.3116 - accuracy: 0.9500 - val_loss: 0.6396 - val_accuracy: 0.6500\n",
      "Epoch 81/100\n",
      "1/1 [==============================] - 1s 1s/step - loss: 0.3515 - accuracy: 0.8750 - val_loss: 0.6600 - val_accuracy: 0.6500\n",
      "Epoch 82/100\n",
      "1/1 [==============================] - 1s 1s/step - loss: 0.3650 - accuracy: 0.9000 - val_loss: 0.6997 - val_accuracy: 0.6500\n",
      "Epoch 83/100\n",
      "1/1 [==============================] - 1s 1s/step - loss: 0.2882 - accuracy: 0.9250 - val_loss: 0.7338 - val_accuracy: 0.6500\n",
      "Epoch 84/100\n",
      "1/1 [==============================] - 1s 1s/step - loss: 0.2691 - accuracy: 0.9000 - val_loss: 0.7695 - val_accuracy: 0.7000\n",
      "Epoch 85/100\n",
      "1/1 [==============================] - 1s 1s/step - loss: 0.3289 - accuracy: 0.9500 - val_loss: 0.7493 - val_accuracy: 0.7000\n",
      "Epoch 86/100\n",
      "1/1 [==============================] - 1s 1s/step - loss: 0.3226 - accuracy: 0.8750 - val_loss: 0.7045 - val_accuracy: 0.7000\n",
      "Epoch 87/100\n",
      "1/1 [==============================] - 1s 1s/step - loss: 0.3152 - accuracy: 0.8750 - val_loss: 0.6811 - val_accuracy: 0.6500\n",
      "Epoch 88/100\n",
      "1/1 [==============================] - 1s 1s/step - loss: 0.2424 - accuracy: 0.9750 - val_loss: 0.6690 - val_accuracy: 0.6500\n",
      "Epoch 89/100\n",
      "1/1 [==============================] - 1s 1s/step - loss: 0.3134 - accuracy: 0.9000 - val_loss: 0.6794 - val_accuracy: 0.6500\n",
      "Epoch 90/100\n",
      "1/1 [==============================] - 1s 1s/step - loss: 0.2550 - accuracy: 0.9750 - val_loss: 0.6675 - val_accuracy: 0.6500\n",
      "Epoch 91/100\n",
      "1/1 [==============================] - 1s 1s/step - loss: 0.3137 - accuracy: 0.8500 - val_loss: 0.6513 - val_accuracy: 0.6000\n",
      "Epoch 92/100\n",
      "1/1 [==============================] - 1s 1s/step - loss: 0.4495 - accuracy: 0.8750 - val_loss: 0.6447 - val_accuracy: 0.8000\n",
      "Epoch 93/100\n",
      "1/1 [==============================] - 1s 1s/step - loss: 0.3231 - accuracy: 0.9250 - val_loss: 0.6606 - val_accuracy: 0.6500\n",
      "Epoch 94/100\n",
      "1/1 [==============================] - 1s 1s/step - loss: 0.2963 - accuracy: 0.9250 - val_loss: 0.6758 - val_accuracy: 0.6500\n",
      "Epoch 95/100\n",
      "1/1 [==============================] - 1s 1s/step - loss: 0.3262 - accuracy: 0.9000 - val_loss: 0.6805 - val_accuracy: 0.7000\n",
      "Epoch 96/100\n",
      "1/1 [==============================] - 1s 1s/step - loss: 0.2648 - accuracy: 0.9000 - val_loss: 0.7309 - val_accuracy: 0.6000\n",
      "Epoch 97/100\n",
      "1/1 [==============================] - 1s 1s/step - loss: 0.2832 - accuracy: 0.9000 - val_loss: 0.7854 - val_accuracy: 0.6500\n",
      "Epoch 98/100\n",
      "1/1 [==============================] - 1s 1s/step - loss: 0.3590 - accuracy: 0.8250 - val_loss: 0.8284 - val_accuracy: 0.6500\n",
      "Epoch 99/100\n",
      "1/1 [==============================] - 1s 1s/step - loss: 0.2666 - accuracy: 0.9250 - val_loss: 0.7873 - val_accuracy: 0.6500\n",
      "Epoch 100/100\n",
      "1/1 [==============================] - 1s 1s/step - loss: 0.3056 - accuracy: 0.8500 - val_loss: 0.7184 - val_accuracy: 0.6000\n"
     ]
    }
   ],
   "source": [
    "h100 = model.fit(\n",
    "    aug.flow(X_train, y_train, batch_size= batch_size),\n",
    "    validation_data=(X_test, y_test),\n",
    "    epochs=100)"
   ]
  },
  {
   "cell_type": "code",
   "execution_count": 38,
   "metadata": {},
   "outputs": [
    {
     "name": "stdout",
     "output_type": "stream",
     "text": [
      "train_accurcy:1.000,Testaccury:0.600\n",
      "loss_train:0.240,loss_acc:0.718\n"
     ]
    }
   ],
   "source": [
    "loss_train,train_acc=model.evaluate(X_train, y_train,verbose=0)\n",
    "loss_test,test_acc=model.evaluate(X_test, y_test,verbose=0)\n",
    "print(\"train_accurcy:%.3f,Testaccury:%.3f\"%(train_acc,test_acc))\n",
    "print(\"loss_train:%.3f,loss_acc:%.3f\"%(loss_train,loss_test))"
   ]
  },
  {
   "cell_type": "code",
   "execution_count": 39,
   "metadata": {},
   "outputs": [
    {
     "data": {
      "text/plain": [
       "<matplotlib.legend.Legend at 0x17e006fe0f0>"
      ]
     },
     "execution_count": 39,
     "metadata": {},
     "output_type": "execute_result"
    },
    {
     "data": {
      "image/png": "[encoded data removed]",
      "text/plain": [
       "<Figure size 864x864 with 1 Axes>"
      ]
     },
     "metadata": {},
     "output_type": "display_data"
    }
   ],
   "source": [
    "# plot training/validation loss/accuracy\n",
    "plt.style.use(\"ggplot\")\n",
    "plt.figure(figsize =(12,12))\n",
    "N = 100\n",
    "plt.plot(np.arange(0,N), h100.history[\"loss\"], label=\"train_loss\")\n",
    "plt.plot(np.arange(0,N), h100.history[\"val_loss\"], label=\"val_loss\")\n",
    "plt.plot(np.arange(0,N), h100.history[\"accuracy\"], label=\"train_acc\")\n",
    "plt.plot(np.arange(0,N), h100.history[\"val_accuracy\"], label=\"val_acc\")\n",
    "\n",
    "plt.title(\"Training Loss and Accuracy\")\n",
    "plt.xlabel(\"Epoch #\")\n",
    "plt.ylabel(\"Loss/Accuracy\")\n",
    "plt.legend(loc=\"upper right\")\n",
    "\n",
    "# save plot to disk\n",
    "#plt.savefig('plot.png')"
   ]
  },
  {
   "cell_type": "code",
   "execution_count": 40,
   "metadata": {},
   "outputs": [
    {
     "data": {
      "image/png": "[encoded data removed]",
      "text/plain": [
       "<Figure size 432x432 with 1 Axes>"
      ]
     },
     "metadata": {},
     "output_type": "display_data"
    }
   ],
   "source": [
    "plt.figure(figsize =(6,6))\n",
    "plt.plot(h100.history['accuracy'])\n",
    "plt.plot(h100.history['val_accuracy'])\n",
    "plt.title('Model Accury')\n",
    "plt.ylabel('accurcy')\n",
    "plt.xlabel('epcho')\n",
    "plt.legend(['train','test'],loc = 'upper left')\n",
    "plt.show()"
   ]
  },
  {
   "cell_type": "code",
   "execution_count": 41,
   "metadata": {},
   "outputs": [
    {
     "data": {
      "image/png": "[encoded data removed]",
      "text/plain": [
       "<Figure size 432x432 with 1 Axes>"
      ]
     },
     "metadata": {},
     "output_type": "display_data"
    }
   ],
   "source": [
    "plt.figure(figsize =(6,6))\n",
    "plt.plot(h100.history['loss'])\n",
    "plt.plot(h100.history['val_loss'])\n",
    "plt.title('Model loss')\n",
    "plt.ylabel('loss')\n",
    "plt.xlabel('epcho')\n",
    "plt.legend(['train','test'],loc = 'upper left')\n",
    "plt.show()"
   ]
  },
  {
   "cell_type": "code",
   "execution_count": 42,
   "metadata": {},
   "outputs": [
    {
     "name": "stdout",
     "output_type": "stream",
     "text": [
      "WARNING:tensorflow:sample_weight modes were coerced from\n",
      "  ...\n",
      "    to  \n",
      "  ['...']\n",
      "Train for 1 steps, validate on 20 samples\n",
      "Epoch 1/200\n",
      "1/1 [==============================] - 1s 973ms/step - loss: 0.2393 - accuracy: 0.9500 - val_loss: 0.6863 - val_accuracy: 0.7000\n",
      "Epoch 2/200\n",
      "1/1 [==============================] - 1s 1s/step - loss: 0.3347 - accuracy: 0.8750 - val_loss: 0.6729 - val_accuracy: 0.7500\n",
      "Epoch 3/200\n",
      "1/1 [==============================] - 1s 1s/step - loss: 0.2165 - accuracy: 0.9500 - val_loss: 0.6628 - val_accuracy: 0.7500\n",
      "Epoch 4/200\n",
      "1/1 [==============================] - 1s 1s/step - loss: 0.2330 - accuracy: 0.9500 - val_loss: 0.6760 - val_accuracy: 0.7500\n",
      "Epoch 5/200\n",
      "1/1 [==============================] - 1s 1s/step - loss: 0.2641 - accuracy: 0.9750 - val_loss: 0.6559 - val_accuracy: 0.7500\n",
      "Epoch 6/200\n",
      "1/1 [==============================] - 2s 2s/step - loss: 0.2673 - accuracy: 0.9000 - val_loss: 0.6422 - val_accuracy: 0.7500\n",
      "Epoch 7/200\n",
      "1/1 [==============================] - 1s 1s/step - loss: 0.2957 - accuracy: 0.8750 - val_loss: 0.6533 - val_accuracy: 0.6500\n",
      "Epoch 8/200\n",
      "1/1 [==============================] - 1s 1s/step - loss: 0.2154 - accuracy: 0.9500 - val_loss: 0.6689 - val_accuracy: 0.6500\n",
      "Epoch 9/200\n",
      "1/1 [==============================] - 1s 1s/step - loss: 0.2333 - accuracy: 0.9500 - val_loss: 0.6866 - val_accuracy: 0.6500\n",
      "Epoch 10/200\n",
      "1/1 [==============================] - 1s 1s/step - loss: 0.2484 - accuracy: 0.9500 - val_loss: 0.7268 - val_accuracy: 0.6000\n",
      "Epoch 11/200\n",
      "1/1 [==============================] - 1s 1s/step - loss: 0.2670 - accuracy: 0.9250 - val_loss: 0.7464 - val_accuracy: 0.6000\n",
      "Epoch 12/200\n",
      "1/1 [==============================] - 1s 1s/step - loss: 0.2420 - accuracy: 0.9500 - val_loss: 0.7275 - val_accuracy: 0.6500\n",
      "Epoch 13/200\n",
      "1/1 [==============================] - 1s 1s/step - loss: 0.2176 - accuracy: 0.9500 - val_loss: 0.6754 - val_accuracy: 0.7000\n",
      "Epoch 14/200\n",
      "1/1 [==============================] - 1s 1s/step - loss: 0.2288 - accuracy: 0.9500 - val_loss: 0.6563 - val_accuracy: 0.7000\n",
      "Epoch 15/200\n",
      "1/1 [==============================] - 1s 1s/step - loss: 0.1968 - accuracy: 0.9500 - val_loss: 0.6573 - val_accuracy: 0.7000\n",
      "Epoch 16/200\n",
      "1/1 [==============================] - 1s 1s/step - loss: 0.2085 - accuracy: 0.9250 - val_loss: 0.6495 - val_accuracy: 0.7000\n",
      "Epoch 17/200\n",
      "1/1 [==============================] - 2s 2s/step - loss: 0.1918 - accuracy: 1.0000 - val_loss: 0.6353 - val_accuracy: 0.8000\n",
      "Epoch 18/200\n",
      "1/1 [==============================] - 2s 2s/step - loss: 0.2206 - accuracy: 0.9750 - val_loss: 0.6376 - val_accuracy: 0.7500\n",
      "Epoch 19/200\n",
      "1/1 [==============================] - 2s 2s/step - loss: 0.3256 - accuracy: 0.8500 - val_loss: 0.6555 - val_accuracy: 0.7500\n",
      "Epoch 20/200\n",
      "1/1 [==============================] - 2s 2s/step - loss: 0.2449 - accuracy: 0.9000 - val_loss: 0.6873 - val_accuracy: 0.7500\n",
      "Epoch 21/200\n",
      "1/1 [==============================] - 2s 2s/step - loss: 0.1621 - accuracy: 1.0000 - val_loss: 0.7130 - val_accuracy: 0.7000\n",
      "Epoch 22/200\n",
      "1/1 [==============================] - 1s 1s/step - loss: 0.2625 - accuracy: 0.9500 - val_loss: 0.7195 - val_accuracy: 0.7000\n",
      "Epoch 23/200\n",
      "1/1 [==============================] - 2s 2s/step - loss: 0.2164 - accuracy: 0.9500 - val_loss: 0.7211 - val_accuracy: 0.7000\n",
      "Epoch 24/200\n",
      "1/1 [==============================] - 2s 2s/step - loss: 0.1743 - accuracy: 1.0000 - val_loss: 0.7237 - val_accuracy: 0.7500\n",
      "Epoch 25/200\n",
      "1/1 [==============================] - 2s 2s/step - loss: 0.1990 - accuracy: 0.9500 - val_loss: 0.7416 - val_accuracy: 0.7000\n",
      "Epoch 26/200\n",
      "1/1 [==============================] - 3s 3s/step - loss: 0.1752 - accuracy: 0.9500 - val_loss: 0.7428 - val_accuracy: 0.6500\n",
      "Epoch 27/200\n",
      "1/1 [==============================] - 4s 4s/step - loss: 0.2471 - accuracy: 0.9250 - val_loss: 0.7455 - val_accuracy: 0.6500\n",
      "Epoch 28/200\n",
      "1/1 [==============================] - 4s 4s/step - loss: 0.1891 - accuracy: 0.9750 - val_loss: 0.7536 - val_accuracy: 0.6500\n",
      "Epoch 29/200\n",
      "1/1 [==============================] - 4s 4s/step - loss: 0.2432 - accuracy: 0.9750 - val_loss: 0.7440 - val_accuracy: 0.7000\n",
      "Epoch 30/200\n",
      "1/1 [==============================] - 4s 4s/step - loss: 0.2430 - accuracy: 0.8750 - val_loss: 0.7706 - val_accuracy: 0.6000\n",
      "Epoch 31/200\n",
      "1/1 [==============================] - 6s 6s/step - loss: 0.1934 - accuracy: 0.9500 - val_loss: 0.7611 - val_accuracy: 0.6500\n",
      "Epoch 32/200\n",
      "1/1 [==============================] - 5s 5s/step - loss: 0.2209 - accuracy: 0.9500 - val_loss: 0.7331 - val_accuracy: 0.6500\n",
      "Epoch 33/200\n",
      "1/1 [==============================] - 2s 2s/step - loss: 0.1611 - accuracy: 0.9500 - val_loss: 0.7203 - val_accuracy: 0.6500\n",
      "Epoch 34/200\n",
      "1/1 [==============================] - 2s 2s/step - loss: 0.1909 - accuracy: 0.9500 - val_loss: 0.7207 - val_accuracy: 0.6000\n",
      "Epoch 35/200\n",
      "1/1 [==============================] - 2s 2s/step - loss: 0.2452 - accuracy: 0.9250 - val_loss: 0.7171 - val_accuracy: 0.6500\n",
      "Epoch 36/200\n",
      "1/1 [==============================] - 2s 2s/step - loss: 0.1634 - accuracy: 0.9750 - val_loss: 0.7085 - val_accuracy: 0.7000\n",
      "Epoch 37/200\n",
      "1/1 [==============================] - 2s 2s/step - loss: 0.1649 - accuracy: 0.9750 - val_loss: 0.7127 - val_accuracy: 0.7000\n",
      "Epoch 38/200\n",
      "1/1 [==============================] - 1s 1s/step - loss: 0.2654 - accuracy: 0.9250 - val_loss: 0.7384 - val_accuracy: 0.7000\n",
      "Epoch 39/200\n",
      "1/1 [==============================] - 1s 1s/step - loss: 0.1767 - accuracy: 0.9750 - val_loss: 0.7358 - val_accuracy: 0.7000\n",
      "Epoch 40/200\n",
      "1/1 [==============================] - 1s 1s/step - loss: 0.1867 - accuracy: 0.9750 - val_loss: 0.7312 - val_accuracy: 0.7000\n",
      "Epoch 41/200\n",
      "1/1 [==============================] - 1s 1s/step - loss: 0.1715 - accuracy: 1.0000 - val_loss: 0.7505 - val_accuracy: 0.7000\n",
      "Epoch 42/200\n",
      "1/1 [==============================] - 1s 1s/step - loss: 0.2098 - accuracy: 0.9500 - val_loss: 0.7580 - val_accuracy: 0.7000\n",
      "Epoch 43/200\n",
      "1/1 [==============================] - 1s 1s/step - loss: 0.2454 - accuracy: 0.9000 - val_loss: 0.7711 - val_accuracy: 0.6500\n",
      "Epoch 44/200\n",
      "1/1 [==============================] - 1s 1s/step - loss: 0.1823 - accuracy: 0.9250 - val_loss: 0.7616 - val_accuracy: 0.7500\n",
      "Epoch 45/200\n",
      "1/1 [==============================] - 1s 1s/step - loss: 0.2098 - accuracy: 0.9250 - val_loss: 0.7539 - val_accuracy: 0.7000\n",
      "Epoch 46/200\n",
      "1/1 [==============================] - 1s 1s/step - loss: 0.1434 - accuracy: 0.9750 - val_loss: 0.7887 - val_accuracy: 0.7000\n",
      "Epoch 47/200\n",
      "1/1 [==============================] - 1s 1s/step - loss: 0.2875 - accuracy: 0.9250 - val_loss: 0.7717 - val_accuracy: 0.7000\n",
      "Epoch 48/200\n",
      "1/1 [==============================] - 1s 1s/step - loss: 0.1549 - accuracy: 0.9500 - val_loss: 0.7508 - val_accuracy: 0.7500\n",
      "Epoch 49/200\n",
      "1/1 [==============================] - 1s 1s/step - loss: 0.1712 - accuracy: 0.9750 - val_loss: 0.7413 - val_accuracy: 0.7500\n",
      "Epoch 50/200\n",
      "1/1 [==============================] - 1s 1s/step - loss: 0.2179 - accuracy: 0.9250 - val_loss: 0.7852 - val_accuracy: 0.7000\n",
      "Epoch 51/200\n",
      "1/1 [==============================] - 1s 1s/step - loss: 0.1758 - accuracy: 0.9500 - val_loss: 0.8054 - val_accuracy: 0.6500\n",
      "Epoch 52/200\n",
      "1/1 [==============================] - 1s 1s/step - loss: 0.1898 - accuracy: 0.9250 - val_loss: 0.8128 - val_accuracy: 0.6500\n",
      "Epoch 53/200\n",
      "1/1 [==============================] - 1s 1s/step - loss: 0.2054 - accuracy: 0.9250 - val_loss: 0.7911 - val_accuracy: 0.7000\n",
      "Epoch 54/200\n",
      "1/1 [==============================] - 1s 1s/step - loss: 0.1529 - accuracy: 0.9750 - val_loss: 0.7899 - val_accuracy: 0.7500\n",
      "Epoch 55/200\n",
      "1/1 [==============================] - 1s 965ms/step - loss: 0.1934 - accuracy: 0.9500 - val_loss: 0.8262 - val_accuracy: 0.7000\n",
      "Epoch 56/200\n",
      "1/1 [==============================] - 1s 1s/step - loss: 0.1947 - accuracy: 0.9500 - val_loss: 0.8773 - val_accuracy: 0.6500\n",
      "Epoch 57/200\n",
      "1/1 [==============================] - 1s 1s/step - loss: 0.1999 - accuracy: 0.9250 - val_loss: 0.8916 - val_accuracy: 0.6500\n",
      "Epoch 58/200\n",
      "1/1 [==============================] - 1s 1s/step - loss: 0.1451 - accuracy: 0.9500 - val_loss: 0.8595 - val_accuracy: 0.6000\n",
      "Epoch 59/200\n"
     ]
    },
    {
     "name": "stdout",
     "output_type": "stream",
     "text": [
      "1/1 [==============================] - 1s 1s/step - loss: 0.1577 - accuracy: 0.9500 - val_loss: 0.8235 - val_accuracy: 0.6500\n",
      "Epoch 60/200\n",
      "1/1 [==============================] - 1s 1s/step - loss: 0.0884 - accuracy: 1.0000 - val_loss: 0.8049 - val_accuracy: 0.7000\n",
      "Epoch 61/200\n",
      "1/1 [==============================] - 1s 1s/step - loss: 0.1370 - accuracy: 0.9750 - val_loss: 0.7883 - val_accuracy: 0.7500\n",
      "Epoch 62/200\n",
      "1/1 [==============================] - 1s 1s/step - loss: 0.1487 - accuracy: 0.9750 - val_loss: 0.7590 - val_accuracy: 0.8500\n",
      "Epoch 63/200\n",
      "1/1 [==============================] - 1s 1s/step - loss: 0.1968 - accuracy: 0.9250 - val_loss: 0.7074 - val_accuracy: 0.8500\n",
      "Epoch 64/200\n",
      "1/1 [==============================] - 1s 1s/step - loss: 0.1342 - accuracy: 1.0000 - val_loss: 0.6818 - val_accuracy: 0.8000\n",
      "Epoch 65/200\n",
      "1/1 [==============================] - 1s 1s/step - loss: 0.2066 - accuracy: 0.9750 - val_loss: 0.6736 - val_accuracy: 0.8000\n",
      "Epoch 66/200\n",
      "1/1 [==============================] - 1s 1s/step - loss: 0.1575 - accuracy: 0.9750 - val_loss: 0.6636 - val_accuracy: 0.8000\n",
      "Epoch 67/200\n",
      "1/1 [==============================] - 1s 1s/step - loss: 0.2030 - accuracy: 0.9000 - val_loss: 0.6616 - val_accuracy: 0.7500\n",
      "Epoch 68/200\n",
      "1/1 [==============================] - 1s 1s/step - loss: 0.1659 - accuracy: 0.9500 - val_loss: 0.6957 - val_accuracy: 0.7000\n",
      "Epoch 69/200\n",
      "1/1 [==============================] - 1s 1s/step - loss: 0.1300 - accuracy: 0.9750 - val_loss: 0.6966 - val_accuracy: 0.7500\n",
      "Epoch 70/200\n",
      "1/1 [==============================] - 1s 1s/step - loss: 0.1344 - accuracy: 1.0000 - val_loss: 0.7173 - val_accuracy: 0.7500\n",
      "Epoch 71/200\n",
      "1/1 [==============================] - 1s 1s/step - loss: 0.1193 - accuracy: 1.0000 - val_loss: 0.7385 - val_accuracy: 0.7000\n",
      "Epoch 72/200\n",
      "1/1 [==============================] - 1s 1s/step - loss: 0.1846 - accuracy: 0.9750 - val_loss: 0.7467 - val_accuracy: 0.7500\n",
      "Epoch 73/200\n",
      "1/1 [==============================] - 1s 1s/step - loss: 0.1677 - accuracy: 0.9500 - val_loss: 0.7465 - val_accuracy: 0.7500\n",
      "Epoch 74/200\n",
      "1/1 [==============================] - 1s 1s/step - loss: 0.1094 - accuracy: 1.0000 - val_loss: 0.7423 - val_accuracy: 0.7500\n",
      "Epoch 75/200\n",
      "1/1 [==============================] - 1s 976ms/step - loss: 0.1816 - accuracy: 0.9750 - val_loss: 0.7667 - val_accuracy: 0.7000\n",
      "Epoch 76/200\n",
      "1/1 [==============================] - 1s 968ms/step - loss: 0.1258 - accuracy: 0.9750 - val_loss: 0.7985 - val_accuracy: 0.6500\n",
      "Epoch 77/200\n",
      "1/1 [==============================] - 1s 982ms/step - loss: 0.2705 - accuracy: 0.9250 - val_loss: 0.7651 - val_accuracy: 0.6500\n",
      "Epoch 78/200\n",
      "1/1 [==============================] - 1s 1s/step - loss: 0.1233 - accuracy: 0.9750 - val_loss: 0.7743 - val_accuracy: 0.6500\n",
      "Epoch 79/200\n",
      "1/1 [==============================] - 1s 1s/step - loss: 0.1221 - accuracy: 0.9750 - val_loss: 0.7322 - val_accuracy: 0.7000\n",
      "Epoch 80/200\n",
      "1/1 [==============================] - 1s 1s/step - loss: 0.1458 - accuracy: 1.0000 - val_loss: 0.7055 - val_accuracy: 0.8000\n",
      "Epoch 81/200\n",
      "1/1 [==============================] - 1s 1s/step - loss: 0.1243 - accuracy: 1.0000 - val_loss: 0.7054 - val_accuracy: 0.8500\n",
      "Epoch 82/200\n",
      "1/1 [==============================] - 1s 1s/step - loss: 0.1699 - accuracy: 0.9750 - val_loss: 0.7657 - val_accuracy: 0.7500\n",
      "Epoch 83/200\n",
      "1/1 [==============================] - 1s 1s/step - loss: 0.1022 - accuracy: 1.0000 - val_loss: 0.8580 - val_accuracy: 0.7000\n",
      "Epoch 84/200\n",
      "1/1 [==============================] - 1s 1s/step - loss: 0.1461 - accuracy: 0.9750 - val_loss: 0.9106 - val_accuracy: 0.6500\n",
      "Epoch 85/200\n",
      "1/1 [==============================] - 1s 1s/step - loss: 0.1974 - accuracy: 0.9500 - val_loss: 0.8751 - val_accuracy: 0.7000\n",
      "Epoch 86/200\n",
      "1/1 [==============================] - 1s 1s/step - loss: 0.1118 - accuracy: 1.0000 - val_loss: 0.8596 - val_accuracy: 0.6500\n",
      "Epoch 87/200\n",
      "1/1 [==============================] - 1s 1s/step - loss: 0.1939 - accuracy: 0.9500 - val_loss: 0.8273 - val_accuracy: 0.6500\n",
      "Epoch 88/200\n",
      "1/1 [==============================] - 1s 1s/step - loss: 0.1789 - accuracy: 0.9750 - val_loss: 0.8114 - val_accuracy: 0.7000\n",
      "Epoch 89/200\n",
      "1/1 [==============================] - 1s 1s/step - loss: 0.1750 - accuracy: 0.9750 - val_loss: 0.8145 - val_accuracy: 0.7000\n",
      "Epoch 90/200\n",
      "1/1 [==============================] - 1s 1s/step - loss: 0.1236 - accuracy: 1.0000 - val_loss: 0.7982 - val_accuracy: 0.7000\n",
      "Epoch 91/200\n",
      "1/1 [==============================] - 1s 1s/step - loss: 0.1181 - accuracy: 1.0000 - val_loss: 0.7716 - val_accuracy: 0.7000\n",
      "Epoch 92/200\n",
      "1/1 [==============================] - 1s 1s/step - loss: 0.1590 - accuracy: 0.9500 - val_loss: 0.7592 - val_accuracy: 0.7000\n",
      "Epoch 93/200\n",
      "1/1 [==============================] - 1s 1s/step - loss: 0.1304 - accuracy: 0.9500 - val_loss: 0.7660 - val_accuracy: 0.7000\n",
      "Epoch 94/200\n",
      "1/1 [==============================] - 2s 2s/step - loss: 0.1739 - accuracy: 0.9750 - val_loss: 0.8551 - val_accuracy: 0.6500\n",
      "Epoch 95/200\n",
      "1/1 [==============================] - 1s 1s/step - loss: 0.1331 - accuracy: 0.9500 - val_loss: 0.9690 - val_accuracy: 0.6500\n",
      "Epoch 96/200\n",
      "1/1 [==============================] - 2s 2s/step - loss: 0.1631 - accuracy: 0.9750 - val_loss: 0.9877 - val_accuracy: 0.6500\n",
      "Epoch 97/200\n",
      "1/1 [==============================] - 1s 1s/step - loss: 0.1021 - accuracy: 0.9750 - val_loss: 0.9125 - val_accuracy: 0.6500\n",
      "Epoch 98/200\n",
      "1/1 [==============================] - 1s 1s/step - loss: 0.1403 - accuracy: 0.9750 - val_loss: 0.8709 - val_accuracy: 0.7000\n",
      "Epoch 99/200\n",
      "1/1 [==============================] - 1s 1s/step - loss: 0.1457 - accuracy: 0.9500 - val_loss: 0.9117 - val_accuracy: 0.7500\n",
      "Epoch 100/200\n",
      "1/1 [==============================] - 1s 1s/step - loss: 0.1155 - accuracy: 1.0000 - val_loss: 0.9032 - val_accuracy: 0.7500\n",
      "Epoch 101/200\n",
      "1/1 [==============================] - 1s 1s/step - loss: 0.1209 - accuracy: 0.9750 - val_loss: 0.8333 - val_accuracy: 0.7500\n",
      "Epoch 102/200\n",
      "1/1 [==============================] - 1s 1s/step - loss: 0.1517 - accuracy: 0.9500 - val_loss: 0.8062 - val_accuracy: 0.7500\n",
      "Epoch 103/200\n",
      "1/1 [==============================] - 1s 1s/step - loss: 0.1150 - accuracy: 1.0000 - val_loss: 0.8416 - val_accuracy: 0.7500\n",
      "Epoch 104/200\n",
      "1/1 [==============================] - 1s 1s/step - loss: 0.1317 - accuracy: 0.9500 - val_loss: 0.8444 - val_accuracy: 0.7000\n",
      "Epoch 105/200\n",
      "1/1 [==============================] - 1s 1s/step - loss: 0.0849 - accuracy: 1.0000 - val_loss: 0.8275 - val_accuracy: 0.7000\n",
      "Epoch 106/200\n",
      "1/1 [==============================] - 1s 1s/step - loss: 0.1295 - accuracy: 0.9500 - val_loss: 0.7659 - val_accuracy: 0.6500\n",
      "Epoch 107/200\n",
      "1/1 [==============================] - 1s 1s/step - loss: 0.1381 - accuracy: 0.9750 - val_loss: 0.7387 - val_accuracy: 0.7000\n",
      "Epoch 108/200\n",
      "1/1 [==============================] - 2s 2s/step - loss: 0.1628 - accuracy: 0.9750 - val_loss: 0.7926 - val_accuracy: 0.7000\n",
      "Epoch 109/200\n",
      "1/1 [==============================] - 2s 2s/step - loss: 0.1346 - accuracy: 1.0000 - val_loss: 0.8006 - val_accuracy: 0.7000\n",
      "Epoch 110/200\n",
      "1/1 [==============================] - 2s 2s/step - loss: 0.1321 - accuracy: 0.9750 - val_loss: 0.7909 - val_accuracy: 0.7500\n",
      "Epoch 111/200\n",
      "1/1 [==============================] - 2s 2s/step - loss: 0.1247 - accuracy: 0.9750 - val_loss: 0.7821 - val_accuracy: 0.8000\n",
      "Epoch 112/200\n",
      "1/1 [==============================] - 2s 2s/step - loss: 0.0937 - accuracy: 0.9750 - val_loss: 0.7987 - val_accuracy: 0.7500\n",
      "Epoch 113/200\n",
      "1/1 [==============================] - 2s 2s/step - loss: 0.1199 - accuracy: 0.9750 - val_loss: 0.8042 - val_accuracy: 0.7500\n",
      "Epoch 114/200\n",
      "1/1 [==============================] - 2s 2s/step - loss: 0.1459 - accuracy: 0.9500 - val_loss: 0.8019 - val_accuracy: 0.7500\n",
      "Epoch 115/200\n",
      "1/1 [==============================] - 2s 2s/step - loss: 0.1369 - accuracy: 0.9500 - val_loss: 0.8271 - val_accuracy: 0.8000\n",
      "Epoch 116/200\n",
      "1/1 [==============================] - 2s 2s/step - loss: 0.0773 - accuracy: 1.0000 - val_loss: 0.8866 - val_accuracy: 0.7000\n",
      "Epoch 117/200\n",
      "1/1 [==============================] - 2s 2s/step - loss: 0.1076 - accuracy: 0.9750 - val_loss: 0.9483 - val_accuracy: 0.7000\n"
     ]
    },
    {
     "name": "stdout",
     "output_type": "stream",
     "text": [
      "Epoch 118/200\n",
      "1/1 [==============================] - 3s 3s/step - loss: 0.1250 - accuracy: 0.9500 - val_loss: 0.9618 - val_accuracy: 0.7500\n",
      "Epoch 119/200\n",
      "1/1 [==============================] - 3s 3s/step - loss: 0.1470 - accuracy: 0.9250 - val_loss: 1.0163 - val_accuracy: 0.7000\n",
      "Epoch 120/200\n",
      "1/1 [==============================] - 3s 3s/step - loss: 0.0751 - accuracy: 1.0000 - val_loss: 1.0830 - val_accuracy: 0.6500\n",
      "Epoch 121/200\n",
      "1/1 [==============================] - 2s 2s/step - loss: 0.1017 - accuracy: 0.9750 - val_loss: 1.0979 - val_accuracy: 0.6500\n",
      "Epoch 122/200\n",
      "1/1 [==============================] - 2s 2s/step - loss: 0.1824 - accuracy: 0.9500 - val_loss: 1.0420 - val_accuracy: 0.6500\n",
      "Epoch 123/200\n",
      "1/1 [==============================] - 2s 2s/step - loss: 0.1165 - accuracy: 0.9250 - val_loss: 0.9938 - val_accuracy: 0.6500\n",
      "Epoch 124/200\n",
      "1/1 [==============================] - 2s 2s/step - loss: 0.1348 - accuracy: 0.9750 - val_loss: 0.9522 - val_accuracy: 0.7000\n",
      "Epoch 125/200\n",
      "1/1 [==============================] - 2s 2s/step - loss: 0.0965 - accuracy: 1.0000 - val_loss: 0.9413 - val_accuracy: 0.7000\n",
      "Epoch 126/200\n",
      "1/1 [==============================] - 2s 2s/step - loss: 0.1075 - accuracy: 0.9500 - val_loss: 0.9557 - val_accuracy: 0.7000\n",
      "Epoch 127/200\n",
      "1/1 [==============================] - 1s 1s/step - loss: 0.0947 - accuracy: 0.9750 - val_loss: 1.0285 - val_accuracy: 0.7000\n",
      "Epoch 128/200\n",
      "1/1 [==============================] - 1s 1s/step - loss: 0.0899 - accuracy: 0.9500 - val_loss: 1.0586 - val_accuracy: 0.7000\n",
      "Epoch 129/200\n",
      "1/1 [==============================] - 1s 1s/step - loss: 0.0852 - accuracy: 1.0000 - val_loss: 1.0732 - val_accuracy: 0.7000\n",
      "Epoch 130/200\n",
      "1/1 [==============================] - 2s 2s/step - loss: 0.0602 - accuracy: 1.0000 - val_loss: 1.0531 - val_accuracy: 0.7000\n",
      "Epoch 131/200\n",
      "1/1 [==============================] - 2s 2s/step - loss: 0.0689 - accuracy: 1.0000 - val_loss: 0.9492 - val_accuracy: 0.6500\n",
      "Epoch 132/200\n",
      "1/1 [==============================] - 2s 2s/step - loss: 0.1026 - accuracy: 1.0000 - val_loss: 0.8479 - val_accuracy: 0.7500\n",
      "Epoch 133/200\n",
      "1/1 [==============================] - 2s 2s/step - loss: 0.0712 - accuracy: 1.0000 - val_loss: 0.8197 - val_accuracy: 0.7500\n",
      "Epoch 134/200\n",
      "1/1 [==============================] - 2s 2s/step - loss: 0.1177 - accuracy: 0.9750 - val_loss: 0.8285 - val_accuracy: 0.7000\n",
      "Epoch 135/200\n",
      "1/1 [==============================] - 2s 2s/step - loss: 0.1210 - accuracy: 0.9750 - val_loss: 0.8098 - val_accuracy: 0.8000\n",
      "Epoch 136/200\n",
      "1/1 [==============================] - 2s 2s/step - loss: 0.0653 - accuracy: 1.0000 - val_loss: 0.7692 - val_accuracy: 0.8000\n",
      "Epoch 137/200\n",
      "1/1 [==============================] - 2s 2s/step - loss: 0.1279 - accuracy: 0.9250 - val_loss: 0.7376 - val_accuracy: 0.7500\n",
      "Epoch 138/200\n",
      "1/1 [==============================] - 1s 1s/step - loss: 0.0881 - accuracy: 0.9750 - val_loss: 0.7414 - val_accuracy: 0.7000\n",
      "Epoch 139/200\n",
      "1/1 [==============================] - 2s 2s/step - loss: 0.1248 - accuracy: 0.9750 - val_loss: 0.7733 - val_accuracy: 0.7000\n",
      "Epoch 140/200\n",
      "1/1 [==============================] - 2s 2s/step - loss: 0.1429 - accuracy: 0.9750 - val_loss: 0.8265 - val_accuracy: 0.8000\n",
      "Epoch 141/200\n",
      "1/1 [==============================] - 2s 2s/step - loss: 0.0833 - accuracy: 1.0000 - val_loss: 0.8643 - val_accuracy: 0.8000\n",
      "Epoch 142/200\n",
      "1/1 [==============================] - 2s 2s/step - loss: 0.0786 - accuracy: 1.0000 - val_loss: 0.8950 - val_accuracy: 0.7500\n",
      "Epoch 143/200\n",
      "1/1 [==============================] - 2s 2s/step - loss: 0.1174 - accuracy: 0.9500 - val_loss: 0.8769 - val_accuracy: 0.8500\n",
      "Epoch 144/200\n",
      "1/1 [==============================] - 1s 1s/step - loss: 0.1019 - accuracy: 1.0000 - val_loss: 0.8531 - val_accuracy: 0.8500\n",
      "Epoch 145/200\n",
      "1/1 [==============================] - 2s 2s/step - loss: 0.0696 - accuracy: 1.0000 - val_loss: 0.8422 - val_accuracy: 0.8500\n",
      "Epoch 146/200\n",
      "1/1 [==============================] - 2s 2s/step - loss: 0.0629 - accuracy: 1.0000 - val_loss: 0.8415 - val_accuracy: 0.9000\n",
      "Epoch 147/200\n",
      "1/1 [==============================] - 2s 2s/step - loss: 0.0933 - accuracy: 0.9750 - val_loss: 0.8672 - val_accuracy: 0.8500\n",
      "Epoch 148/200\n",
      "1/1 [==============================] - 2s 2s/step - loss: 0.1546 - accuracy: 0.9500 - val_loss: 0.8829 - val_accuracy: 0.8500\n",
      "Epoch 149/200\n",
      "1/1 [==============================] - 2s 2s/step - loss: 0.0851 - accuracy: 0.9750 - val_loss: 0.9074 - val_accuracy: 0.8000\n",
      "Epoch 150/200\n",
      "1/1 [==============================] - 1s 1s/step - loss: 0.1228 - accuracy: 0.9750 - val_loss: 0.9612 - val_accuracy: 0.8000\n",
      "Epoch 151/200\n",
      "1/1 [==============================] - 2s 2s/step - loss: 0.1505 - accuracy: 0.9750 - val_loss: 1.0183 - val_accuracy: 0.8000\n",
      "Epoch 152/200\n",
      "1/1 [==============================] - 2s 2s/step - loss: 0.0773 - accuracy: 1.0000 - val_loss: 1.0316 - val_accuracy: 0.8000\n",
      "Epoch 153/200\n",
      "1/1 [==============================] - 1s 1s/step - loss: 0.1289 - accuracy: 0.9500 - val_loss: 1.0177 - val_accuracy: 0.8000\n",
      "Epoch 154/200\n",
      "1/1 [==============================] - 1s 1s/step - loss: 0.0754 - accuracy: 1.0000 - val_loss: 0.9730 - val_accuracy: 0.8000\n",
      "Epoch 155/200\n",
      "1/1 [==============================] - 1s 1s/step - loss: 0.1191 - accuracy: 0.9750 - val_loss: 0.9138 - val_accuracy: 0.8000\n",
      "Epoch 156/200\n",
      "1/1 [==============================] - 1s 1s/step - loss: 0.1027 - accuracy: 1.0000 - val_loss: 0.8610 - val_accuracy: 0.8000\n",
      "Epoch 157/200\n",
      "1/1 [==============================] - 2s 2s/step - loss: 0.2359 - accuracy: 0.9500 - val_loss: 0.8672 - val_accuracy: 0.7500\n",
      "Epoch 158/200\n",
      "1/1 [==============================] - 2s 2s/step - loss: 0.0781 - accuracy: 1.0000 - val_loss: 0.8904 - val_accuracy: 0.7500\n",
      "Epoch 159/200\n",
      "1/1 [==============================] - 1s 1s/step - loss: 0.0911 - accuracy: 0.9500 - val_loss: 0.9637 - val_accuracy: 0.7500\n",
      "Epoch 160/200\n",
      "1/1 [==============================] - 1s 1s/step - loss: 0.1474 - accuracy: 0.9500 - val_loss: 0.9574 - val_accuracy: 0.7000\n",
      "Epoch 161/200\n",
      "1/1 [==============================] - 1s 1s/step - loss: 0.0716 - accuracy: 1.0000 - val_loss: 0.9444 - val_accuracy: 0.7500\n",
      "Epoch 162/200\n",
      "1/1 [==============================] - 1s 1s/step - loss: 0.0826 - accuracy: 0.9750 - val_loss: 0.9288 - val_accuracy: 0.8000\n",
      "Epoch 163/200\n",
      "1/1 [==============================] - 1s 1s/step - loss: 0.0614 - accuracy: 1.0000 - val_loss: 0.9179 - val_accuracy: 0.8000\n",
      "Epoch 164/200\n",
      "1/1 [==============================] - 1s 1s/step - loss: 0.1153 - accuracy: 0.9500 - val_loss: 0.9277 - val_accuracy: 0.8000\n",
      "Epoch 165/200\n",
      "1/1 [==============================] - 2s 2s/step - loss: 0.0846 - accuracy: 0.9750 - val_loss: 0.9233 - val_accuracy: 0.7000\n",
      "Epoch 166/200\n",
      "1/1 [==============================] - 2s 2s/step - loss: 0.2017 - accuracy: 0.9250 - val_loss: 0.8503 - val_accuracy: 0.7000\n",
      "Epoch 167/200\n",
      "1/1 [==============================] - 2s 2s/step - loss: 0.1005 - accuracy: 0.9750 - val_loss: 0.8387 - val_accuracy: 0.8000\n",
      "Epoch 168/200\n",
      "1/1 [==============================] - 2s 2s/step - loss: 0.1045 - accuracy: 0.9750 - val_loss: 0.9153 - val_accuracy: 0.7500\n",
      "Epoch 169/200\n",
      "1/1 [==============================] - 2s 2s/step - loss: 0.1114 - accuracy: 0.9750 - val_loss: 1.0182 - val_accuracy: 0.7500\n",
      "Epoch 170/200\n",
      "1/1 [==============================] - 2s 2s/step - loss: 0.1353 - accuracy: 0.9750 - val_loss: 1.0046 - val_accuracy: 0.7000\n",
      "Epoch 171/200\n",
      "1/1 [==============================] - 1s 1s/step - loss: 0.1064 - accuracy: 0.9750 - val_loss: 1.1129 - val_accuracy: 0.7000\n",
      "Epoch 172/200\n",
      "1/1 [==============================] - 1s 1s/step - loss: 0.1393 - accuracy: 0.9500 - val_loss: 1.0939 - val_accuracy: 0.7000\n",
      "Epoch 173/200\n",
      "1/1 [==============================] - 1s 1s/step - loss: 0.0788 - accuracy: 1.0000 - val_loss: 1.0367 - val_accuracy: 0.7000\n",
      "Epoch 174/200\n",
      "1/1 [==============================] - 2s 2s/step - loss: 0.1007 - accuracy: 0.9750 - val_loss: 0.9983 - val_accuracy: 0.7000\n",
      "Epoch 175/200\n",
      "1/1 [==============================] - 1s 1s/step - loss: 0.0777 - accuracy: 1.0000 - val_loss: 1.0055 - val_accuracy: 0.7000\n",
      "Epoch 176/200\n",
      "1/1 [==============================] - 1s 1s/step - loss: 0.1587 - accuracy: 0.9500 - val_loss: 1.0834 - val_accuracy: 0.7500\n"
     ]
    },
    {
     "name": "stdout",
     "output_type": "stream",
     "text": [
      "Epoch 177/200\n",
      "1/1 [==============================] - 1s 1s/step - loss: 0.0915 - accuracy: 0.9750 - val_loss: 1.1740 - val_accuracy: 0.7500\n",
      "Epoch 178/200\n",
      "1/1 [==============================] - 1s 1s/step - loss: 0.0652 - accuracy: 1.0000 - val_loss: 1.2671 - val_accuracy: 0.7500\n",
      "Epoch 179/200\n",
      "1/1 [==============================] - 1s 1s/step - loss: 0.1340 - accuracy: 0.9500 - val_loss: 1.3384 - val_accuracy: 0.7000\n",
      "Epoch 180/200\n",
      "1/1 [==============================] - 1s 1s/step - loss: 0.0810 - accuracy: 1.0000 - val_loss: 1.3927 - val_accuracy: 0.6500\n",
      "Epoch 181/200\n",
      "1/1 [==============================] - 1s 1s/step - loss: 0.1264 - accuracy: 0.9250 - val_loss: 1.3688 - val_accuracy: 0.7500\n",
      "Epoch 182/200\n",
      "1/1 [==============================] - 1s 1s/step - loss: 0.0831 - accuracy: 1.0000 - val_loss: 1.3712 - val_accuracy: 0.7500\n",
      "Epoch 183/200\n",
      "1/1 [==============================] - 1s 1s/step - loss: 0.0815 - accuracy: 1.0000 - val_loss: 1.3650 - val_accuracy: 0.7500\n",
      "Epoch 184/200\n",
      "1/1 [==============================] - 2s 2s/step - loss: 0.0951 - accuracy: 0.9750 - val_loss: 1.3407 - val_accuracy: 0.7000\n",
      "Epoch 185/200\n",
      "1/1 [==============================] - 2s 2s/step - loss: 0.0943 - accuracy: 0.9750 - val_loss: 1.3049 - val_accuracy: 0.8000\n",
      "Epoch 186/200\n",
      "1/1 [==============================] - 2s 2s/step - loss: 0.1380 - accuracy: 0.9750 - val_loss: 1.2755 - val_accuracy: 0.8500\n",
      "Epoch 187/200\n",
      "1/1 [==============================] - 2s 2s/step - loss: 0.1000 - accuracy: 0.9500 - val_loss: 1.2581 - val_accuracy: 0.9000\n",
      "Epoch 188/200\n",
      "1/1 [==============================] - 2s 2s/step - loss: 0.0679 - accuracy: 1.0000 - val_loss: 1.2778 - val_accuracy: 0.9000\n",
      "Epoch 189/200\n",
      "1/1 [==============================] - 2s 2s/step - loss: 0.1326 - accuracy: 0.9750 - val_loss: 1.2683 - val_accuracy: 0.7500\n",
      "Epoch 190/200\n",
      "1/1 [==============================] - 2s 2s/step - loss: 0.0500 - accuracy: 1.0000 - val_loss: 1.5681 - val_accuracy: 0.5500\n",
      "Epoch 191/200\n",
      "1/1 [==============================] - 1s 1s/step - loss: 0.0694 - accuracy: 1.0000 - val_loss: 1.8547 - val_accuracy: 0.5000\n",
      "Epoch 192/200\n",
      "1/1 [==============================] - 1s 1s/step - loss: 0.0960 - accuracy: 1.0000 - val_loss: 1.9931 - val_accuracy: 0.5000\n",
      "Epoch 193/200\n",
      "1/1 [==============================] - 1s 1s/step - loss: 0.1896 - accuracy: 0.9500 - val_loss: 1.8545 - val_accuracy: 0.5500\n",
      "Epoch 194/200\n",
      "1/1 [==============================] - 1s 1s/step - loss: 0.0998 - accuracy: 1.0000 - val_loss: 1.5827 - val_accuracy: 0.6000\n",
      "Epoch 195/200\n",
      "1/1 [==============================] - 1s 1s/step - loss: 0.0830 - accuracy: 1.0000 - val_loss: 1.2997 - val_accuracy: 0.6500\n",
      "Epoch 196/200\n",
      "1/1 [==============================] - 1s 1s/step - loss: 0.1137 - accuracy: 0.9750 - val_loss: 1.1799 - val_accuracy: 0.7000\n",
      "Epoch 197/200\n",
      "1/1 [==============================] - 2s 2s/step - loss: 0.0660 - accuracy: 1.0000 - val_loss: 1.1918 - val_accuracy: 0.8000\n",
      "Epoch 198/200\n",
      "1/1 [==============================] - 1s 1s/step - loss: 0.1162 - accuracy: 0.9750 - val_loss: 1.2752 - val_accuracy: 0.7500\n",
      "Epoch 199/200\n",
      "1/1 [==============================] - 1s 1s/step - loss: 0.0914 - accuracy: 0.9750 - val_loss: 1.3041 - val_accuracy: 0.8000\n",
      "Epoch 200/200\n",
      "1/1 [==============================] - 1s 1s/step - loss: 0.0788 - accuracy: 1.0000 - val_loss: 1.3354 - val_accuracy: 0.7500\n"
     ]
    }
   ],
   "source": [
    "h200 = model.fit(\n",
    "    aug.flow(X_train, y_train, batch_size= batch_size),\n",
    "    validation_data=(X_test, y_test),\n",
    "    epochs=200)"
   ]
  },
  {
   "cell_type": "code",
   "execution_count": 43,
   "metadata": {},
   "outputs": [
    {
     "data": {
      "image/png": "[encoded data removed]",
      "text/plain": [
       "<Figure size 432x432 with 1 Axes>"
      ]
     },
     "metadata": {},
     "output_type": "display_data"
    }
   ],
   "source": [
    "plt.figure(figsize =(6,6))\n",
    "plt.plot(h200.history['accuracy'])\n",
    "plt.plot(h200.history['val_accuracy'])\n",
    "plt.title('Model Accury')\n",
    "plt.ylabel('accurcy')\n",
    "plt.xlabel('epcho')\n",
    "plt.legend(['train','test'],loc = 'upper left')\n",
    "plt.show()"
   ]
  },
  {
   "cell_type": "code",
   "execution_count": 44,
   "metadata": {},
   "outputs": [
    {
     "data": {
      "image/png": "[encoded data removed]",
      "text/plain": [
       "<Figure size 432x432 with 1 Axes>"
      ]
     },
     "metadata": {},
     "output_type": "display_data"
    }
   ],
   "source": [
    "plt.figure(figsize =(6,6))\n",
    "plt.plot(h200.history['loss'])\n",
    "plt.plot(h200.history['val_loss'])\n",
    "plt.title('Model loss')\n",
    "plt.ylabel('loss')\n",
    "plt.xlabel('epcho')\n",
    "plt.legend(['train','test'],loc = 'upper left')\n",
    "plt.show()"
   ]
  },
  {
   "cell_type": "code",
   "execution_count": null,
   "metadata": {},
   "outputs": [],
   "source": []
  },
  {
   "cell_type": "markdown",
   "metadata": {},
   "source": [
    "# HYPERPARFMETER TUNING"
   ]
  },
  {
   "cell_type": "markdown",
   "metadata": {},
   "source": [
    "input_neurons = X_train.shape[1]\n",
    "neuron_hidden_layer_1 = 6\n",
    "neuron_hidden_layer_2 = 5\n",
    "output_neurons = 2"
   ]
  },
  {
   "cell_type": "code",
   "execution_count": 45,
   "metadata": {},
   "outputs": [],
   "source": [
    "from keras.layers import Dense,Activation,LeakyReLU,ReLU,ELU,Dropout,Embedding,BatchNormalization\n",
    "from keras.wrappers.scikit_learn import KerasClassifier\n",
    "from sklearn.model_selection import GridSearchCV\n",
    "import tensorflow\n",
    "import tensorflow as tf\n",
    "from tensorflow import keras\n",
    "import numpy as np\n",
    "from tensorflow.keras import layers\n",
    "from kerastuner.tuners import RandomSearch\n",
    "\n",
    "from kerastuner.engine.hyperparameters import HyperParameters"
   ]
  },
  {
   "cell_type": "markdown",
   "metadata": {},
   "source": [
    "RANDOM search"
   ]
  },
  {
   "cell_type": "code",
   "execution_count": 46,
   "metadata": {},
   "outputs": [],
   "source": [
    "def build_model(hp):  \n",
    "    model = keras.Sequential([\n",
    "        keras.layers.Conv2D(\n",
    "        filters=hp.Int('conv_1_filter', min_value=32, max_value=256, step=16),\n",
    "        kernel_size=hp.Choice('conv_1_kernel', values = [3,5,7]),\n",
    "        activation='relu',\n",
    "        input_shape=(100,100,3)),\n",
    "        keras.layers.Conv2D(\n",
    "        filters=hp.Int('conv_2_filter', min_value=32, max_value=256, step=16),\n",
    "        kernel_size=hp.Choice('conv_2_kernel', values = [3,5,7]),\n",
    "        activation='relu'),\n",
    "        \n",
    "     \n",
    "        \n",
    "        keras.layers.Flatten(),\n",
    "        keras.layers.Dense(\n",
    "        units=hp.Int('dense_1_units', min_value=32, max_value=128, step=16),\n",
    "        activation='relu'),\n",
    "        \n",
    "        keras.layers.Dense(2, activation='softmax')])\n",
    "    model.compile(optimizer=keras.optimizers.Adam(hp.Choice('learning_rate', values=[1e-2, 1e-3])),\n",
    "              loss='sparse_categorical_crossentropy',\n",
    "              metrics=['accuracy'])\n",
    "  \n",
    "    return model"
   ]
  },
  {
   "cell_type": "code",
   "execution_count": null,
   "metadata": {},
   "outputs": [],
   "source": []
  },
  {
   "cell_type": "code",
   "execution_count": 47,
   "metadata": {},
   "outputs": [
    {
     "name": "stdout",
     "output_type": "stream",
     "text": [
      "INFO:tensorflow:Reloading Oracle from existing project .\\dogvscat\\oracle.json\n",
      "INFO:tensorflow:Reloading Tuner from .\\dogvscat\\tuner0.json\n"
     ]
    }
   ],
   "source": [
    "tuner_search=RandomSearch(build_model,\n",
    "                          objective='val_accuracy',\n",
    "                          max_trials=3,project_name=\"dogvscat\")"
   ]
  },
  {
   "cell_type": "code",
   "execution_count": 48,
   "metadata": {},
   "outputs": [
    {
     "name": "stdout",
     "output_type": "stream",
     "text": [
      "INFO:tensorflow:Oracle triggered exit\n"
     ]
    }
   ],
   "source": [
    "tuner_search.search(X_train,y_train,epochs=3,validation_split=0.1)"
   ]
  },
  {
   "cell_type": "code",
   "execution_count": 49,
   "metadata": {},
   "outputs": [
    {
     "name": "stdout",
     "output_type": "stream",
     "text": [
      "WARNING:tensorflow:Inconsistent references when loading the checkpoint into this object graph. Either the Trackable object references in the Python program have changed in an incompatible way, or the checkpoint was generated in an incompatible program.\n",
      "\n",
      "Two checkpoint references resolved to different objects (<tensorflow.python.keras.layers.convolutional.Conv2D object at 0x0000017E7660A198> and <tensorflow.python.keras.engine.input_layer.InputLayer object at 0x0000017E007702E8>).\n",
      "WARNING:tensorflow:Inconsistent references when loading the checkpoint into this object graph. Either the Trackable object references in the Python program have changed in an incompatible way, or the checkpoint was generated in an incompatible program.\n",
      "\n",
      "Two checkpoint references resolved to different objects (<tensorflow.python.keras.layers.convolutional.Conv2D object at 0x0000017E00770DD8> and <tensorflow.python.keras.layers.convolutional.Conv2D object at 0x0000017E7660A198>).\n",
      "WARNING:tensorflow:Inconsistent references when loading the checkpoint into this object graph. Either the Trackable object references in the Python program have changed in an incompatible way, or the checkpoint was generated in an incompatible program.\n",
      "\n",
      "Two checkpoint references resolved to different objects (<tensorflow.python.keras.layers.core.Dense object at 0x0000017E007708D0> and <tensorflow.python.keras.layers.core.Flatten object at 0x0000017E00770B00>).\n",
      "WARNING:tensorflow:Inconsistent references when loading the checkpoint into this object graph. Either the Trackable object references in the Python program have changed in an incompatible way, or the checkpoint was generated in an incompatible program.\n",
      "\n",
      "Two checkpoint references resolved to different objects (<tensorflow.python.keras.layers.core.Dense object at 0x0000017E00770908> and <tensorflow.python.keras.layers.core.Dense object at 0x0000017E007708D0>).\n",
      "Model: \"sequential\"\n",
      "_________________________________________________________________\n",
      "Layer (type)                 Output Shape              Param #   \n",
      "=================================================================\n",
      "conv2d (Conv2D)              (None, 96, 96, 64)        4864      \n",
      "_________________________________________________________________\n",
      "conv2d_1 (Conv2D)            (None, 94, 94, 48)        27696     \n",
      "_________________________________________________________________\n",
      "flatten (Flatten)            (None, 424128)            0         \n",
      "_________________________________________________________________\n",
      "dense (Dense)                (None, 96)                40716384  \n",
      "_________________________________________________________________\n",
      "dense_1 (Dense)              (None, 2)                 194       \n",
      "=================================================================\n",
      "Total params: 40,749,138\n",
      "Trainable params: 40,749,138\n",
      "Non-trainable params: 0\n",
      "_________________________________________________________________\n"
     ]
    }
   ],
   "source": [
    "model=tuner_search.get_best_models(num_models=1)[0]\n",
    "model.summary()"
   ]
  },
  {
   "cell_type": "code",
   "execution_count": 50,
   "metadata": {},
   "outputs": [
    {
     "name": "stdout",
     "output_type": "stream",
     "text": [
      "WARNING:tensorflow:sample_weight modes were coerced from\n",
      "  ...\n",
      "    to  \n",
      "  ['...']\n",
      "Train for 1 steps, validate on 20 samples\n",
      "Epoch 1/50\n",
      "1/1 [==============================] - 4s 4s/step - loss: 173.3159 - accuracy: 0.5000 - val_loss: 7.1310 - val_accuracy: 0.5000\n",
      "Epoch 2/50\n",
      "1/1 [==============================] - 2s 2s/step - loss: 6.9243 - accuracy: 0.5000 - val_loss: 10.0761 - val_accuracy: 0.5000\n",
      "Epoch 3/50\n",
      "1/1 [==============================] - 2s 2s/step - loss: 9.3453 - accuracy: 0.5000 - val_loss: 0.6932 - val_accuracy: 0.5000\n",
      "Epoch 4/50\n",
      "1/1 [==============================] - 2s 2s/step - loss: 0.6934 - accuracy: 0.5000 - val_loss: 0.7027 - val_accuracy: 0.4500\n",
      "Epoch 5/50\n",
      "1/1 [==============================] - 3s 3s/step - loss: 0.6935 - accuracy: 0.4750 - val_loss: 0.6941 - val_accuracy: 0.5000\n",
      "Epoch 6/50\n",
      "1/1 [==============================] - 2s 2s/step - loss: 0.6940 - accuracy: 0.5000 - val_loss: 0.6947 - val_accuracy: 0.5000\n",
      "Epoch 7/50\n",
      "1/1 [==============================] - 3s 3s/step - loss: 0.6944 - accuracy: 0.5000 - val_loss: 18.3512 - val_accuracy: 0.5000\n",
      "Epoch 8/50\n",
      "1/1 [==============================] - 3s 3s/step - loss: 17.6935 - accuracy: 0.5000 - val_loss: 0.6955 - val_accuracy: 0.5000\n",
      "Epoch 9/50\n",
      "1/1 [==============================] - 3s 3s/step - loss: 0.6955 - accuracy: 0.5000 - val_loss: 0.6961 - val_accuracy: 0.5000\n",
      "Epoch 10/50\n",
      "1/1 [==============================] - 3s 3s/step - loss: 0.6961 - accuracy: 0.5000 - val_loss: 0.6967 - val_accuracy: 0.5000\n",
      "Epoch 11/50\n",
      "1/1 [==============================] - 3s 3s/step - loss: 0.6967 - accuracy: 0.5000 - val_loss: 0.6972 - val_accuracy: 0.5000\n",
      "Epoch 12/50\n",
      "1/1 [==============================] - 2s 2s/step - loss: 0.6972 - accuracy: 0.5000 - val_loss: 0.6976 - val_accuracy: 0.5000\n",
      "Epoch 13/50\n",
      "1/1 [==============================] - 3s 3s/step - loss: 0.6976 - accuracy: 0.5000 - val_loss: 0.6979 - val_accuracy: 0.5000\n",
      "Epoch 14/50\n",
      "1/1 [==============================] - 3s 3s/step - loss: 0.6978 - accuracy: 0.5000 - val_loss: 0.6980 - val_accuracy: 0.5000\n",
      "Epoch 15/50\n",
      "1/1 [==============================] - 2s 2s/step - loss: 0.6979 - accuracy: 0.5000 - val_loss: 0.6980 - val_accuracy: 0.5000\n",
      "Epoch 16/50\n",
      "1/1 [==============================] - 3s 3s/step - loss: 0.6979 - accuracy: 0.5000 - val_loss: 0.6978 - val_accuracy: 0.5000\n",
      "Epoch 17/50\n",
      "1/1 [==============================] - 3s 3s/step - loss: 0.6978 - accuracy: 0.5000 - val_loss: 0.6976 - val_accuracy: 0.5000\n",
      "Epoch 18/50\n",
      "1/1 [==============================] - 3s 3s/step - loss: 0.6976 - accuracy: 0.5000 - val_loss: 0.6974 - val_accuracy: 0.5000\n",
      "Epoch 19/50\n",
      "1/1 [==============================] - 3s 3s/step - loss: 0.6974 - accuracy: 0.5000 - val_loss: 0.6971 - val_accuracy: 0.5000\n",
      "Epoch 20/50\n",
      "1/1 [==============================] - 3s 3s/step - loss: 0.6971 - accuracy: 0.5000 - val_loss: 0.6968 - val_accuracy: 0.5000\n",
      "Epoch 21/50\n",
      "1/1 [==============================] - 3s 3s/step - loss: 0.6968 - accuracy: 0.5000 - val_loss: 0.6964 - val_accuracy: 0.5000\n",
      "Epoch 22/50\n",
      "1/1 [==============================] - 4s 4s/step - loss: 0.6964 - accuracy: 0.5000 - val_loss: 0.6961 - val_accuracy: 0.5000\n",
      "Epoch 23/50\n",
      "1/1 [==============================] - 3s 3s/step - loss: 0.6961 - accuracy: 0.5000 - val_loss: 0.6958 - val_accuracy: 0.5000\n",
      "Epoch 24/50\n",
      "1/1 [==============================] - 4s 4s/step - loss: 0.6958 - accuracy: 0.5000 - val_loss: 0.6955 - val_accuracy: 0.5000\n",
      "Epoch 25/50\n",
      "1/1 [==============================] - 4s 4s/step - loss: 0.6955 - accuracy: 0.5000 - val_loss: 0.6953 - val_accuracy: 0.5000\n",
      "Epoch 26/50\n",
      "1/1 [==============================] - 4s 4s/step - loss: 0.6953 - accuracy: 0.5000 - val_loss: 0.6950 - val_accuracy: 0.5000\n",
      "Epoch 27/50\n",
      "1/1 [==============================] - 4s 4s/step - loss: 0.6950 - accuracy: 0.5000 - val_loss: 0.6948 - val_accuracy: 0.5000\n",
      "Epoch 28/50\n",
      "1/1 [==============================] - 4s 4s/step - loss: 0.6948 - accuracy: 0.5000 - val_loss: 0.6946 - val_accuracy: 0.5000\n",
      "Epoch 29/50\n",
      "1/1 [==============================] - 3s 3s/step - loss: 0.6946 - accuracy: 0.5000 - val_loss: 0.6945 - val_accuracy: 0.5000\n",
      "Epoch 30/50\n",
      "1/1 [==============================] - 3s 3s/step - loss: 0.6945 - accuracy: 0.5000 - val_loss: 0.6944 - val_accuracy: 0.5000\n",
      "Epoch 31/50\n",
      "1/1 [==============================] - 3s 3s/step - loss: 0.6944 - accuracy: 0.5000 - val_loss: 0.6942 - val_accuracy: 0.5000\n",
      "Epoch 32/50\n",
      "1/1 [==============================] - 3s 3s/step - loss: 0.6943 - accuracy: 0.5000 - val_loss: 0.6941 - val_accuracy: 0.5000\n",
      "Epoch 33/50\n",
      "1/1 [==============================] - 2s 2s/step - loss: 0.6941 - accuracy: 0.5000 - val_loss: 0.6940 - val_accuracy: 0.5000\n",
      "Epoch 34/50\n",
      "1/1 [==============================] - 2s 2s/step - loss: 0.6940 - accuracy: 0.5000 - val_loss: 0.6939 - val_accuracy: 0.5000\n",
      "Epoch 35/50\n",
      "1/1 [==============================] - 2s 2s/step - loss: 0.6939 - accuracy: 0.5000 - val_loss: 0.6938 - val_accuracy: 0.5000\n",
      "Epoch 36/50\n",
      "1/1 [==============================] - 3s 3s/step - loss: 0.6938 - accuracy: 0.5000 - val_loss: 0.6937 - val_accuracy: 0.5000\n",
      "Epoch 37/50\n",
      "1/1 [==============================] - 3s 3s/step - loss: 0.6937 - accuracy: 0.5000 - val_loss: 0.6936 - val_accuracy: 0.5000\n",
      "Epoch 38/50\n",
      "1/1 [==============================] - 3s 3s/step - loss: 0.6936 - accuracy: 0.5000 - val_loss: 0.6935 - val_accuracy: 0.5000\n",
      "Epoch 39/50\n",
      "1/1 [==============================] - 2s 2s/step - loss: 0.6935 - accuracy: 0.5000 - val_loss: 0.6935 - val_accuracy: 0.5000\n",
      "Epoch 40/50\n",
      "1/1 [==============================] - 3s 3s/step - loss: 0.6935 - accuracy: 0.5000 - val_loss: 0.6934 - val_accuracy: 0.5000\n",
      "Epoch 41/50\n",
      "1/1 [==============================] - 3s 3s/step - loss: 0.6934 - accuracy: 0.5000 - val_loss: 0.6934 - val_accuracy: 0.5000\n",
      "Epoch 42/50\n",
      "1/1 [==============================] - 2s 2s/step - loss: 0.6934 - accuracy: 0.5000 - val_loss: 0.6933 - val_accuracy: 0.5000\n",
      "Epoch 43/50\n",
      "1/1 [==============================] - 3s 3s/step - loss: 0.6933 - accuracy: 0.5000 - val_loss: 0.6933 - val_accuracy: 0.5000\n",
      "Epoch 44/50\n",
      "1/1 [==============================] - 2s 2s/step - loss: 0.6933 - accuracy: 0.5000 - val_loss: 0.6933 - val_accuracy: 0.5000\n",
      "Epoch 45/50\n",
      "1/1 [==============================] - 2s 2s/step - loss: 0.6933 - accuracy: 0.5000 - val_loss: 0.6932 - val_accuracy: 0.5000\n",
      "Epoch 46/50\n",
      "1/1 [==============================] - 2s 2s/step - loss: 0.6932 - accuracy: 0.5000 - val_loss: 0.6932 - val_accuracy: 0.5000\n",
      "Epoch 47/50\n",
      "1/1 [==============================] - 3s 3s/step - loss: 0.6932 - accuracy: 0.5000 - val_loss: 0.6932 - val_accuracy: 0.5000\n",
      "Epoch 48/50\n",
      "1/1 [==============================] - 3s 3s/step - loss: 0.6932 - accuracy: 0.5000 - val_loss: 0.6932 - val_accuracy: 0.5000\n",
      "Epoch 49/50\n",
      "1/1 [==============================] - 3s 3s/step - loss: 0.6932 - accuracy: 0.5000 - val_loss: 0.6932 - val_accuracy: 0.5000\n",
      "Epoch 50/50\n",
      "1/1 [==============================] - 3s 3s/step - loss: 0.6932 - accuracy: 0.5000 - val_loss: 0.6932 - val_accuracy: 0.5000\n"
     ]
    },
    {
     "data": {
      "text/plain": [
       "<tensorflow.python.keras.callbacks.History at 0x17e00a14cc0>"
      ]
     },
     "execution_count": 50,
     "metadata": {},
     "output_type": "execute_result"
    }
   ],
   "source": [
    "model.fit(\n",
    "    aug.flow(X_train, y_train, batch_size= batch_size),\n",
    "    validation_data=(X_test, y_test),\n",
    "    epochs=50)"
   ]
  },
  {
   "cell_type": "code",
   "execution_count": 51,
   "metadata": {},
   "outputs": [],
   "source": [
    "HYPERBAND_MAX_EPOCHS = 40\n",
    "MAX_TRIALS = 20\n",
    "EXECUTION_PER_TRIAL = 2"
   ]
  },
  {
   "cell_type": "code",
   "execution_count": 52,
   "metadata": {},
   "outputs": [],
   "source": [
    "from kerastuner.tuners import Hyperband"
   ]
  },
  {
   "cell_type": "code",
   "execution_count": 53,
   "metadata": {},
   "outputs": [
    {
     "name": "stdout",
     "output_type": "stream",
     "text": [
      "INFO:tensorflow:Reloading Oracle from existing project hyperband\\dogvscat\\oracle.json\n",
      "INFO:tensorflow:Reloading Tuner from hyperband\\dogvscat\\tuner0.json\n"
     ]
    }
   ],
   "source": [
    "\n",
    "\n",
    "\n",
    "tuner = Hyperband(\n",
    "    build_model,\n",
    "    max_epochs=40,\n",
    "    objective='val_accuracy',\n",
    "    seed=42,\n",
    "    executions_per_trial=3,\n",
    "    directory='hyperband',\n",
    "    project_name='dogvscat'\n",
    ")"
   ]
  },
  {
   "cell_type": "code",
   "execution_count": null,
   "metadata": {},
   "outputs": [],
   "source": []
  },
  {
   "cell_type": "code",
   "execution_count": 54,
   "metadata": {},
   "outputs": [
    {
     "name": "stdout",
     "output_type": "stream",
     "text": [
      "Train on 36 samples, validate on 4 samples\n",
      "Epoch 1/2\n",
      "36/36 [==============================] - ETA: 10s - loss: 0.6946 - accuracy: 0.500 - 213s 6s/sample - loss: 601.0754 - accuracy: 0.5000 - val_loss: 1257.7092 - val_accuracy: 0.7500\n",
      "Epoch 2/2\n",
      "36/36 [==============================] - ETA: 3s - loss: 3177.4033 - accuracy: 0.468 - 77s 2s/sample - loss: 2844.4534 - accuracy: 0.4722 - val_loss: 68.8745 - val_accuracy: 0.2500\n",
      "Train on 36 samples, validate on 4 samples\n",
      "Epoch 1/2\n",
      "36/36 [==============================] - ETA: 1:01 - loss: 0.6938 - accuracy: 0.59 - 742s 21s/sample - loss: 1135.0353 - accuracy: 0.5556 - val_loss: 610.6513 - val_accuracy: 0.7500\n",
      "Epoch 2/2\n",
      "36/36 [==============================] - ETA: 14s - loss: 1568.1213 - accuracy: 0.46 - 257s 7s/sample - loss: 1399.9952 - accuracy: 0.4722 - val_loss: 30.3564 - val_accuracy: 0.7500\n",
      "Train on 36 samples, validate on 4 samples\n",
      "Epoch 1/2\n",
      "36/36 [==============================] - ETA: 40s - loss: 0.6932 - accuracy: 0.468 - 874s 24s/sample - loss: 2103.4829 - accuracy: 0.4444 - val_loss: 291.9348 - val_accuracy: 0.7500\n",
      "Epoch 2/2\n",
      "36/36 [==============================] - ETA: 6s - loss: 690.4231 - accuracy: 0.46 - 168s 5s/sample - loss: 614.1199 - accuracy: 0.5000 - val_loss: 958.5848 - val_accuracy: 0.2500\n"
     ]
    },
    {
     "data": {
      "text/html": [
       "<span style=\"color:#4527A0\"><h1 style=\"font-size:18px\">Trial complete</h1></span>"
      ],
      "text/plain": [
       "<IPython.core.display.HTML object>"
      ]
     },
     "metadata": {},
     "output_type": "display_data"
    },
    {
     "data": {
      "text/html": [
       "<span style=\"color:#4527A0\"><h1 style=\"font-size:18px\">Trial summary</h1></span>"
      ],
      "text/plain": [
       "<IPython.core.display.HTML object>"
      ]
     },
     "metadata": {},
     "output_type": "display_data"
    },
    {
     "data": {
      "text/html": [
       "<span style=\"color:cyan\"> |-Trial ID: e01c888b5020b389d5a398fa7272bb39</span>"
      ],
      "text/plain": [
       "<IPython.core.display.HTML object>"
      ]
     },
     "metadata": {},
     "output_type": "display_data"
    },
    {
     "data": {
      "text/html": [
       "<span style=\"color:cyan\"> |-Score: 0.75</span>"
      ],
      "text/plain": [
       "<IPython.core.display.HTML object>"
      ]
     },
     "metadata": {},
     "output_type": "display_data"
    },
    {
     "data": {
      "text/html": [
       "<span style=\"color:cyan\"> |-Best step: 0</span>"
      ],
      "text/plain": [
       "<IPython.core.display.HTML object>"
      ]
     },
     "metadata": {},
     "output_type": "display_data"
    },
    {
     "data": {
      "text/html": [
       "<span style=\"color:#7E57C2\"><h2 style=\"font-size:16px\">Hyperparameters:</h2></span>"
      ],
      "text/plain": [
       "<IPython.core.display.HTML object>"
      ]
     },
     "metadata": {},
     "output_type": "display_data"
    },
    {
     "data": {
      "text/html": [
       "<span style=\"color:cyan\"> |-conv_1_filter: 240</span>"
      ],
      "text/plain": [
       "<IPython.core.display.HTML object>"
      ]
     },
     "metadata": {},
     "output_type": "display_data"
    },
    {
     "data": {
      "text/html": [
       "<span style=\"color:blue\"> |-conv_1_kernel: 3</span>"
      ],
      "text/plain": [
       "<IPython.core.display.HTML object>"
      ]
     },
     "metadata": {},
     "output_type": "display_data"
    },
    {
     "data": {
      "text/html": [
       "<span style=\"color:cyan\"> |-conv_2_filter: 256</span>"
      ],
      "text/plain": [
       "<IPython.core.display.HTML object>"
      ]
     },
     "metadata": {},
     "output_type": "display_data"
    },
    {
     "data": {
      "text/html": [
       "<span style=\"color:blue\"> |-conv_2_kernel: 3</span>"
      ],
      "text/plain": [
       "<IPython.core.display.HTML object>"
      ]
     },
     "metadata": {},
     "output_type": "display_data"
    },
    {
     "data": {
      "text/html": [
       "<span style=\"color:cyan\"> |-dense_1_units: 80</span>"
      ],
      "text/plain": [
       "<IPython.core.display.HTML object>"
      ]
     },
     "metadata": {},
     "output_type": "display_data"
    },
    {
     "data": {
      "text/html": [
       "<span style=\"color:blue\"> |-learning_rate: 0.01</span>"
      ],
      "text/plain": [
       "<IPython.core.display.HTML object>"
      ]
     },
     "metadata": {},
     "output_type": "display_data"
    },
    {
     "data": {
      "text/html": [
       "<span style=\"color:cyan\"> |-tuner/bracket: 3</span>"
      ],
      "text/plain": [
       "<IPython.core.display.HTML object>"
      ]
     },
     "metadata": {},
     "output_type": "display_data"
    },
    {
     "data": {
      "text/html": [
       "<span style=\"color:blue\"> |-tuner/epochs: 2</span>"
      ],
      "text/plain": [
       "<IPython.core.display.HTML object>"
      ]
     },
     "metadata": {},
     "output_type": "display_data"
    },
    {
     "data": {
      "text/html": [
       "<span style=\"color:cyan\"> |-tuner/initial_epoch: 0</span>"
      ],
      "text/plain": [
       "<IPython.core.display.HTML object>"
      ]
     },
     "metadata": {},
     "output_type": "display_data"
    },
    {
     "data": {
      "text/html": [
       "<span style=\"color:blue\"> |-tuner/round: 0</span>"
      ],
      "text/plain": [
       "<IPython.core.display.HTML object>"
      ]
     },
     "metadata": {},
     "output_type": "display_data"
    },
    {
     "name": "stdout",
     "output_type": "stream",
     "text": [
      "Train on 36 samples, validate on 4 samples\n",
      "Epoch 1/2\n",
      "36/36 [==============================] - ETA: 2s - loss: 0.6996 - accuracy: 0.40 - 122s 3s/sample - loss: 6.2966 - accuracy: 0.4167 - val_loss: 21.5948 - val_accuracy: 0.7500\n",
      "Epoch 2/2\n",
      "36/36 [==============================] - ETA: 1s - loss: 52.6805 - accuracy: 0.437 - 13s 359ms/sample - loss: 47.1162 - accuracy: 0.4722 - val_loss: 0.5576 - val_accuracy: 0.7500\n",
      "Train on 36 samples, validate on 4 samples\n",
      "Epoch 1/2\n",
      "36/36 [==============================] - ETA: 6s - loss: 0.6985 - accuracy: 0.46 - 260s 7s/sample - loss: 22.3446 - accuracy: 0.4444 - val_loss: 3.5517 - val_accuracy: 0.7500\n",
      "Epoch 2/2\n",
      "36/36 [==============================] - ETA: 25s - loss: 8.6608 - accuracy: 0.437 - 612s 17s/sample - loss: 7.7754 - accuracy: 0.4722 - val_loss: 0.1553 - val_accuracy: 1.0000\n",
      "Train on 36 samples, validate on 4 samples\n",
      "Epoch 1/2\n",
      "36/36 [==============================] - ETA: 7s - loss: 0.6958 - accuracy: 0.50 - 256s 7s/sample - loss: 7.9765 - accuracy: 0.4722 - val_loss: 48.9006 - val_accuracy: 0.2500\n",
      "Epoch 2/2\n",
      "36/36 [==============================] - ETA: 1s - loss: 27.9825 - accuracy: 0.500 - 22s 607ms/sample - loss: 25.1690 - accuracy: 0.5278 - val_loss: 0.6128 - val_accuracy: 0.7500\n"
     ]
    },
    {
     "data": {
      "text/html": [
       "<span style=\"color:#4527A0\"><h1 style=\"font-size:18px\">Trial complete</h1></span>"
      ],
      "text/plain": [
       "<IPython.core.display.HTML object>"
      ]
     },
     "metadata": {},
     "output_type": "display_data"
    },
    {
     "data": {
      "text/html": [
       "<span style=\"color:#4527A0\"><h1 style=\"font-size:18px\">Trial summary</h1></span>"
      ],
      "text/plain": [
       "<IPython.core.display.HTML object>"
      ]
     },
     "metadata": {},
     "output_type": "display_data"
    },
    {
     "data": {
      "text/html": [
       "<span style=\"color:cyan\"> |-Trial ID: 403e8ca70572fd0a35035dba26d5296b</span>"
      ],
      "text/plain": [
       "<IPython.core.display.HTML object>"
      ]
     },
     "metadata": {},
     "output_type": "display_data"
    },
    {
     "data": {
      "text/html": [
       "<span style=\"color:cyan\"> |-Score: 0.8333333134651184</span>"
      ],
      "text/plain": [
       "<IPython.core.display.HTML object>"
      ]
     },
     "metadata": {},
     "output_type": "display_data"
    },
    {
     "data": {
      "text/html": [
       "<span style=\"color:cyan\"> |-Best step: 0</span>"
      ],
      "text/plain": [
       "<IPython.core.display.HTML object>"
      ]
     },
     "metadata": {},
     "output_type": "display_data"
    },
    {
     "data": {
      "text/html": [
       "<span style=\"color:#7E57C2\"><h2 style=\"font-size:16px\">Hyperparameters:</h2></span>"
      ],
      "text/plain": [
       "<IPython.core.display.HTML object>"
      ]
     },
     "metadata": {},
     "output_type": "display_data"
    },
    {
     "data": {
      "text/html": [
       "<span style=\"color:cyan\"> |-conv_1_filter: 96</span>"
      ],
      "text/plain": [
       "<IPython.core.display.HTML object>"
      ]
     },
     "metadata": {},
     "output_type": "display_data"
    },
    {
     "data": {
      "text/html": [
       "<span style=\"color:blue\"> |-conv_1_kernel: 5</span>"
      ],
      "text/plain": [
       "<IPython.core.display.HTML object>"
      ]
     },
     "metadata": {},
     "output_type": "display_data"
    },
    {
     "data": {
      "text/html": [
       "<span style=\"color:cyan\"> |-conv_2_filter: 240</span>"
      ],
      "text/plain": [
       "<IPython.core.display.HTML object>"
      ]
     },
     "metadata": {},
     "output_type": "display_data"
    },
    {
     "data": {
      "text/html": [
       "<span style=\"color:blue\"> |-conv_2_kernel: 5</span>"
      ],
      "text/plain": [
       "<IPython.core.display.HTML object>"
      ]
     },
     "metadata": {},
     "output_type": "display_data"
    },
    {
     "data": {
      "text/html": [
       "<span style=\"color:cyan\"> |-dense_1_units: 80</span>"
      ],
      "text/plain": [
       "<IPython.core.display.HTML object>"
      ]
     },
     "metadata": {},
     "output_type": "display_data"
    },
    {
     "data": {
      "text/html": [
       "<span style=\"color:blue\"> |-learning_rate: 0.001</span>"
      ],
      "text/plain": [
       "<IPython.core.display.HTML object>"
      ]
     },
     "metadata": {},
     "output_type": "display_data"
    },
    {
     "data": {
      "text/html": [
       "<span style=\"color:cyan\"> |-tuner/bracket: 3</span>"
      ],
      "text/plain": [
       "<IPython.core.display.HTML object>"
      ]
     },
     "metadata": {},
     "output_type": "display_data"
    },
    {
     "data": {
      "text/html": [
       "<span style=\"color:blue\"> |-tuner/epochs: 2</span>"
      ],
      "text/plain": [
       "<IPython.core.display.HTML object>"
      ]
     },
     "metadata": {},
     "output_type": "display_data"
    },
    {
     "data": {
      "text/html": [
       "<span style=\"color:cyan\"> |-tuner/initial_epoch: 0</span>"
      ],
      "text/plain": [
       "<IPython.core.display.HTML object>"
      ]
     },
     "metadata": {},
     "output_type": "display_data"
    },
    {
     "data": {
      "text/html": [
       "<span style=\"color:blue\"> |-tuner/round: 0</span>"
      ],
      "text/plain": [
       "<IPython.core.display.HTML object>"
      ]
     },
     "metadata": {},
     "output_type": "display_data"
    },
    {
     "name": "stdout",
     "output_type": "stream",
     "text": [
      "Train on 36 samples, validate on 4 samples\n",
      "Epoch 1/2\n",
      "32/36 [=========================>....] - ETA: 2sWARNING:tensorflow:Can save best model only with val_accuracy available, skipping.\n",
      "32/36 [=========================>....] - ETA: 2s"
     ]
    },
    {
     "name": "stderr",
     "output_type": "stream",
     "text": [
      "ERROR:root:Internal Python error in the inspect module.\n",
      "Below is the traceback from this internal error.\n",
      "\n",
      "\n",
      "KeyboardInterrupt\n",
      "\n"
     ]
    }
   ],
   "source": [
    "N_EPOCH_SEARCH = 40\n",
    "\n",
    "tuner.search(X_train, y_train, epochs=N_EPOCH_SEARCH, validation_split=0.1)\n",
    "# Show a summary of the search\n",
    "tuner.results_summary()\n",
    "\n",
    "# Retrieve the best model.\n",
    "best_model = tuner.get_best_models(num_models=1)[0]\n",
    "\n",
    "# Evaluate the best model.\n",
    "loss, accuracy = best_model.evaluate(X_test, y_test)\n",
    "tuner.search_space_summary()"
   ]
  },
  {
   "cell_type": "code",
   "execution_count": null,
   "metadata": {},
   "outputs": [],
   "source": [
    "\n"
   ]
  },
  {
   "cell_type": "code",
   "execution_count": null,
   "metadata": {},
   "outputs": [],
   "source": [
    "plt.figure(figsize =(6,6))\n",
    "plt.plot(h200.history['accuracy'])\n",
    "plt.plot(h200.history['val_accuracy'])\n",
    "plt.title('Model Accury')\n",
    "plt.ylabel('accurcy')\n",
    "plt.xlabel('epcho')\n",
    "plt.legend(['train','test'],loc = 'upper left')\n",
    "plt.show()"
   ]
  },
  {
   "cell_type": "code",
   "execution_count": null,
   "metadata": {},
   "outputs": [],
   "source": [
    "plt.figure(figsize =(6,6))\n",
    "plt.plot(h200.history['loss'])\n",
    "plt.plot(h200.history['val_loss'])\n",
    "plt.title('Model loss')\n",
    "plt.ylabel('loss')\n",
    "plt.xlabel('epcho')\n",
    "plt.legend(['train','test'],loc = 'upper left')\n",
    "plt.show()"
   ]
  },
  {
   "cell_type": "code",
   "execution_count": null,
   "metadata": {},
   "outputs": [],
   "source": []
  },
  {
   "cell_type": "markdown",
   "metadata": {},
   "source": [
    "# Predictions"
   ]
  },
  {
   "cell_type": "code",
   "execution_count": null,
   "metadata": {},
   "outputs": [],
   "source": [
    "def predict_dogcat(path):\n",
    "    im=cv2.imread(path)\n",
    "    im_resized = cv2.resize(im,(img_height,img_width),interpolation=cv2.INTER_LINEAR)\n",
    "    \n",
    "    plt.imshow(cv2.cvtColor(im_resized,cv2.COLOR_BGR2RGB))\n",
    "    plt.show()\n",
    "    \n",
    "    img_pred =image.load_img(path,target_size=(img_height,img_width))\n",
    "    img_pred = image.img_to_array(img_pred)\n",
    "    img = np.expand_dims(img_pred,axis =0)\n",
    "    result = model.predict_classes(img)\n",
    "    prob=model.predict_proba(img)\n",
    "    print('pridicted classes',result)\n",
    "    print('probability:{}'.format(prob[0]))\n",
    "    if result[0] ==1:\n",
    "        prediction =\"dog\"\n",
    "    else:\n",
    "        prediction =\"cat\"\n",
    "        \n",
    "    print(\"prdicted class\",prediction)\n",
    "        \n",
    "        "
   ]
  },
  {
   "cell_type": "code",
   "execution_count": null,
   "metadata": {},
   "outputs": [],
   "source": [
    "from keras.preprocessing import image"
   ]
  },
  {
   "cell_type": "code",
   "execution_count": null,
   "metadata": {},
   "outputs": [],
   "source": [
    "predict_dogcat(r\"C:\\Users\\harsha.teja\\Desktop\\myg\\deep learning\\DEEP projects\\catanddogclasspro\\archive\\dogscats\\train\\dogs\\dog.109.jpg\")"
   ]
  },
  {
   "cell_type": "code",
   "execution_count": null,
   "metadata": {},
   "outputs": [],
   "source": [
    "print(\"[INFO] saving mask detector model...\")\n",
    "model.save(\"dogcat_detector.model\", save_format=\"h5\")"
   ]
  },
  {
   "cell_type": "code",
   "execution_count": null,
   "metadata": {},
   "outputs": [],
   "source": []
  },
  {
   "cell_type": "code",
   "execution_count": null,
   "metadata": {},
   "outputs": [],
   "source": []
  },
  {
   "cell_type": "code",
   "execution_count": null,
   "metadata": {},
   "outputs": [],
   "source": []
  }
 ],
 "metadata": {
  "kernelspec": {
   "display_name": "Python 3",
   "language": "python",
   "name": "python3"
  },
  "language_info": {
   "codemirror_mode": {
    "name": "ipython",
    "version": 3
   },
   "file_extension": ".py",
   "mimetype": "text/x-python",
   "name": "python",
   "nbconvert_exporter": "python",
   "pygments_lexer": "ipython3",
   "version": "3.7.0"
  }
 },
 "nbformat": 4,
 "nbformat_minor": 4
}
